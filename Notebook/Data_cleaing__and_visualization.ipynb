{
 "cells": [
  {
   "cell_type": "markdown",
   "id": "78750797",
   "metadata": {},
   "source": [
    "# Pharmaceutical Sales Prediction of EDA and Forecasting"
   ]
  },
  {
   "cell_type": "code",
   "execution_count": 83,
   "id": "23918b43",
   "metadata": {},
   "outputs": [],
   "source": [
    "import warnings\n",
    "warnings.filterwarnings(\"ignore\")\n",
    "#Data Manipulation and Treatment\n",
    "import numpy as np\n",
    "import pandas as pd\n",
    "from datetime import datetime\n",
    "#Plotting and Visualizations\n",
    "import matplotlib.pyplot as plt\n",
    "%matplotlib inline \n",
    "import seaborn as sns\n",
    "from scipy import stats\n",
    "import itertools\n",
    "#Scikit-Learn for Modeling\n",
    "from sklearn import model_selection\n",
    "from sklearn.ensemble import RandomForestRegressor\n",
    "from sklearn import metrics"
   ]
  },
  {
   "cell_type": "markdown",
   "id": "f0cc1944",
   "metadata": {},
   "source": [
    "# To load  the dataset \n",
    "The training dataset and store dataset"
   ]
  },
  {
   "cell_type": "code",
   "execution_count": 84,
   "id": "c92238d2",
   "metadata": {},
   "outputs": [],
   "source": [
    "def str_to_date(date):\n",
    "    return datetime.strptime(date, '%Y-%m-%d').date()"
   ]
  },
  {
   "cell_type": "code",
   "execution_count": 85,
   "id": "d6dffade",
   "metadata": {},
   "outputs": [
    {
     "name": "stdout",
     "output_type": "stream",
     "text": [
      "1017209\n"
     ]
    }
   ],
   "source": [
    "#The training Set\n",
    "train_to_data = pd.read_csv(r\"C:\\Users\\Genet Shanko\\Desktop\\Pharmaceutical_Sales_Prediction\\Data\\train.csv\", sep=',', parse_dates=['Date'], date_parser=str_to_date,low_memory = False)\n",
    "print(len(train_to_data))\n",
    "\n",
    "\n",
    "\n",
    "#Additional Information on those stores \n",
    "store_data = pd.read_csv(r\"C:\\Users\\Genet Shanko\\Desktop\\Pharmaceutical_Sales_Prediction\\Data\\store.csv\" , low_memory = False)"
   ]
  },
  {
   "cell_type": "code",
   "execution_count": 86,
   "id": "d996ecb0",
   "metadata": {},
   "outputs": [
    {
     "data": {
      "text/html": [
       "<div>\n",
       "<style scoped>\n",
       "    .dataframe tbody tr th:only-of-type {\n",
       "        vertical-align: middle;\n",
       "    }\n",
       "\n",
       "    .dataframe tbody tr th {\n",
       "        vertical-align: top;\n",
       "    }\n",
       "\n",
       "    .dataframe thead th {\n",
       "        text-align: right;\n",
       "    }\n",
       "</style>\n",
       "<table border=\"1\" class=\"dataframe\">\n",
       "  <thead>\n",
       "    <tr style=\"text-align: right;\">\n",
       "      <th></th>\n",
       "      <th>Store</th>\n",
       "      <th>DayOfWeek</th>\n",
       "      <th>Date</th>\n",
       "      <th>Sales</th>\n",
       "      <th>Customers</th>\n",
       "      <th>Open</th>\n",
       "      <th>Promo</th>\n",
       "      <th>StateHoliday</th>\n",
       "      <th>SchoolHoliday</th>\n",
       "    </tr>\n",
       "  </thead>\n",
       "  <tbody>\n",
       "    <tr>\n",
       "      <th>0</th>\n",
       "      <td>1</td>\n",
       "      <td>5</td>\n",
       "      <td>2015-07-31</td>\n",
       "      <td>5263</td>\n",
       "      <td>555</td>\n",
       "      <td>1</td>\n",
       "      <td>1</td>\n",
       "      <td>0</td>\n",
       "      <td>1</td>\n",
       "    </tr>\n",
       "    <tr>\n",
       "      <th>1</th>\n",
       "      <td>2</td>\n",
       "      <td>5</td>\n",
       "      <td>2015-07-31</td>\n",
       "      <td>6064</td>\n",
       "      <td>625</td>\n",
       "      <td>1</td>\n",
       "      <td>1</td>\n",
       "      <td>0</td>\n",
       "      <td>1</td>\n",
       "    </tr>\n",
       "    <tr>\n",
       "      <th>2</th>\n",
       "      <td>3</td>\n",
       "      <td>5</td>\n",
       "      <td>2015-07-31</td>\n",
       "      <td>8314</td>\n",
       "      <td>821</td>\n",
       "      <td>1</td>\n",
       "      <td>1</td>\n",
       "      <td>0</td>\n",
       "      <td>1</td>\n",
       "    </tr>\n",
       "    <tr>\n",
       "      <th>3</th>\n",
       "      <td>4</td>\n",
       "      <td>5</td>\n",
       "      <td>2015-07-31</td>\n",
       "      <td>13995</td>\n",
       "      <td>1498</td>\n",
       "      <td>1</td>\n",
       "      <td>1</td>\n",
       "      <td>0</td>\n",
       "      <td>1</td>\n",
       "    </tr>\n",
       "    <tr>\n",
       "      <th>4</th>\n",
       "      <td>5</td>\n",
       "      <td>5</td>\n",
       "      <td>2015-07-31</td>\n",
       "      <td>4822</td>\n",
       "      <td>559</td>\n",
       "      <td>1</td>\n",
       "      <td>1</td>\n",
       "      <td>0</td>\n",
       "      <td>1</td>\n",
       "    </tr>\n",
       "  </tbody>\n",
       "</table>\n",
       "</div>"
      ],
      "text/plain": [
       "   Store  DayOfWeek       Date  Sales  Customers  Open  Promo StateHoliday  \\\n",
       "0      1          5 2015-07-31   5263        555     1      1            0   \n",
       "1      2          5 2015-07-31   6064        625     1      1            0   \n",
       "2      3          5 2015-07-31   8314        821     1      1            0   \n",
       "3      4          5 2015-07-31  13995       1498     1      1            0   \n",
       "4      5          5 2015-07-31   4822        559     1      1            0   \n",
       "\n",
       "   SchoolHoliday  \n",
       "0              1  \n",
       "1              1  \n",
       "2              1  \n",
       "3              1  \n",
       "4              1  "
      ]
     },
     "execution_count": 86,
     "metadata": {},
     "output_type": "execute_result"
    }
   ],
   "source": [
    "train_to_data.head()"
   ]
  },
  {
   "cell_type": "code",
   "execution_count": 87,
   "id": "0f626387",
   "metadata": {},
   "outputs": [
    {
     "data": {
      "text/html": [
       "<div>\n",
       "<style scoped>\n",
       "    .dataframe tbody tr th:only-of-type {\n",
       "        vertical-align: middle;\n",
       "    }\n",
       "\n",
       "    .dataframe tbody tr th {\n",
       "        vertical-align: top;\n",
       "    }\n",
       "\n",
       "    .dataframe thead th {\n",
       "        text-align: right;\n",
       "    }\n",
       "</style>\n",
       "<table border=\"1\" class=\"dataframe\">\n",
       "  <thead>\n",
       "    <tr style=\"text-align: right;\">\n",
       "      <th></th>\n",
       "      <th>Store</th>\n",
       "      <th>DayOfWeek</th>\n",
       "      <th>Date</th>\n",
       "      <th>Sales</th>\n",
       "      <th>Customers</th>\n",
       "      <th>Open</th>\n",
       "      <th>Promo</th>\n",
       "      <th>StateHoliday</th>\n",
       "      <th>SchoolHoliday</th>\n",
       "    </tr>\n",
       "  </thead>\n",
       "  <tbody>\n",
       "    <tr>\n",
       "      <th>1017204</th>\n",
       "      <td>1111</td>\n",
       "      <td>2</td>\n",
       "      <td>2013-01-01</td>\n",
       "      <td>0</td>\n",
       "      <td>0</td>\n",
       "      <td>0</td>\n",
       "      <td>0</td>\n",
       "      <td>a</td>\n",
       "      <td>1</td>\n",
       "    </tr>\n",
       "    <tr>\n",
       "      <th>1017205</th>\n",
       "      <td>1112</td>\n",
       "      <td>2</td>\n",
       "      <td>2013-01-01</td>\n",
       "      <td>0</td>\n",
       "      <td>0</td>\n",
       "      <td>0</td>\n",
       "      <td>0</td>\n",
       "      <td>a</td>\n",
       "      <td>1</td>\n",
       "    </tr>\n",
       "    <tr>\n",
       "      <th>1017206</th>\n",
       "      <td>1113</td>\n",
       "      <td>2</td>\n",
       "      <td>2013-01-01</td>\n",
       "      <td>0</td>\n",
       "      <td>0</td>\n",
       "      <td>0</td>\n",
       "      <td>0</td>\n",
       "      <td>a</td>\n",
       "      <td>1</td>\n",
       "    </tr>\n",
       "    <tr>\n",
       "      <th>1017207</th>\n",
       "      <td>1114</td>\n",
       "      <td>2</td>\n",
       "      <td>2013-01-01</td>\n",
       "      <td>0</td>\n",
       "      <td>0</td>\n",
       "      <td>0</td>\n",
       "      <td>0</td>\n",
       "      <td>a</td>\n",
       "      <td>1</td>\n",
       "    </tr>\n",
       "    <tr>\n",
       "      <th>1017208</th>\n",
       "      <td>1115</td>\n",
       "      <td>2</td>\n",
       "      <td>2013-01-01</td>\n",
       "      <td>0</td>\n",
       "      <td>0</td>\n",
       "      <td>0</td>\n",
       "      <td>0</td>\n",
       "      <td>a</td>\n",
       "      <td>1</td>\n",
       "    </tr>\n",
       "  </tbody>\n",
       "</table>\n",
       "</div>"
      ],
      "text/plain": [
       "         Store  DayOfWeek       Date  Sales  Customers  Open  Promo  \\\n",
       "1017204   1111          2 2013-01-01      0          0     0      0   \n",
       "1017205   1112          2 2013-01-01      0          0     0      0   \n",
       "1017206   1113          2 2013-01-01      0          0     0      0   \n",
       "1017207   1114          2 2013-01-01      0          0     0      0   \n",
       "1017208   1115          2 2013-01-01      0          0     0      0   \n",
       "\n",
       "        StateHoliday  SchoolHoliday  \n",
       "1017204            a              1  \n",
       "1017205            a              1  \n",
       "1017206            a              1  \n",
       "1017207            a              1  \n",
       "1017208            a              1  "
      ]
     },
     "execution_count": 87,
     "metadata": {},
     "output_type": "execute_result"
    }
   ],
   "source": [
    "train_to_data.tail()"
   ]
  },
  {
   "cell_type": "code",
   "execution_count": 88,
   "id": "4f3938aa",
   "metadata": {},
   "outputs": [
    {
     "name": "stdout",
     "output_type": "stream",
     "text": [
      "The Train dataset has 1017209 Rows and 9 Variables\n"
     ]
    },
    {
     "data": {
      "text/plain": [
       "(Store                     int64\n",
       " DayOfWeek                 int64\n",
       " Date             datetime64[ns]\n",
       " Sales                     int64\n",
       " Customers                 int64\n",
       " Open                      int64\n",
       " Promo                     int64\n",
       " StateHoliday             object\n",
       " SchoolHoliday             int64\n",
       " dtype: object,\n",
       " None)"
      ]
     },
     "execution_count": 88,
     "metadata": {},
     "output_type": "execute_result"
    }
   ],
   "source": [
    "train_to_data.dtypes,print (\"The Train dataset has {} Rows and {} Variables\".format(str(train_to_data.shape[0]),str(train_to_data.shape[1])))"
   ]
  },
  {
   "cell_type": "code",
   "execution_count": 89,
   "id": "ea229df9",
   "metadata": {},
   "outputs": [
    {
     "data": {
      "text/html": [
       "<div>\n",
       "<style scoped>\n",
       "    .dataframe tbody tr th:only-of-type {\n",
       "        vertical-align: middle;\n",
       "    }\n",
       "\n",
       "    .dataframe tbody tr th {\n",
       "        vertical-align: top;\n",
       "    }\n",
       "\n",
       "    .dataframe thead th {\n",
       "        text-align: right;\n",
       "    }\n",
       "</style>\n",
       "<table border=\"1\" class=\"dataframe\">\n",
       "  <thead>\n",
       "    <tr style=\"text-align: right;\">\n",
       "      <th></th>\n",
       "      <th>Store</th>\n",
       "      <th>StoreType</th>\n",
       "      <th>Assortment</th>\n",
       "      <th>CompetitionDistance</th>\n",
       "      <th>CompetitionOpenSinceMonth</th>\n",
       "      <th>CompetitionOpenSinceYear</th>\n",
       "      <th>Promo2</th>\n",
       "      <th>Promo2SinceWeek</th>\n",
       "      <th>Promo2SinceYear</th>\n",
       "      <th>PromoInterval</th>\n",
       "    </tr>\n",
       "  </thead>\n",
       "  <tbody>\n",
       "    <tr>\n",
       "      <th>0</th>\n",
       "      <td>1</td>\n",
       "      <td>c</td>\n",
       "      <td>a</td>\n",
       "      <td>1270.0</td>\n",
       "      <td>9.0</td>\n",
       "      <td>2008.0</td>\n",
       "      <td>0</td>\n",
       "      <td>NaN</td>\n",
       "      <td>NaN</td>\n",
       "      <td>NaN</td>\n",
       "    </tr>\n",
       "    <tr>\n",
       "      <th>1</th>\n",
       "      <td>2</td>\n",
       "      <td>a</td>\n",
       "      <td>a</td>\n",
       "      <td>570.0</td>\n",
       "      <td>11.0</td>\n",
       "      <td>2007.0</td>\n",
       "      <td>1</td>\n",
       "      <td>13.0</td>\n",
       "      <td>2010.0</td>\n",
       "      <td>Jan,Apr,Jul,Oct</td>\n",
       "    </tr>\n",
       "    <tr>\n",
       "      <th>2</th>\n",
       "      <td>3</td>\n",
       "      <td>a</td>\n",
       "      <td>a</td>\n",
       "      <td>14130.0</td>\n",
       "      <td>12.0</td>\n",
       "      <td>2006.0</td>\n",
       "      <td>1</td>\n",
       "      <td>14.0</td>\n",
       "      <td>2011.0</td>\n",
       "      <td>Jan,Apr,Jul,Oct</td>\n",
       "    </tr>\n",
       "    <tr>\n",
       "      <th>3</th>\n",
       "      <td>4</td>\n",
       "      <td>c</td>\n",
       "      <td>c</td>\n",
       "      <td>620.0</td>\n",
       "      <td>9.0</td>\n",
       "      <td>2009.0</td>\n",
       "      <td>0</td>\n",
       "      <td>NaN</td>\n",
       "      <td>NaN</td>\n",
       "      <td>NaN</td>\n",
       "    </tr>\n",
       "    <tr>\n",
       "      <th>4</th>\n",
       "      <td>5</td>\n",
       "      <td>a</td>\n",
       "      <td>a</td>\n",
       "      <td>29910.0</td>\n",
       "      <td>4.0</td>\n",
       "      <td>2015.0</td>\n",
       "      <td>0</td>\n",
       "      <td>NaN</td>\n",
       "      <td>NaN</td>\n",
       "      <td>NaN</td>\n",
       "    </tr>\n",
       "  </tbody>\n",
       "</table>\n",
       "</div>"
      ],
      "text/plain": [
       "   Store StoreType Assortment  CompetitionDistance  CompetitionOpenSinceMonth  \\\n",
       "0      1         c          a               1270.0                        9.0   \n",
       "1      2         a          a                570.0                       11.0   \n",
       "2      3         a          a              14130.0                       12.0   \n",
       "3      4         c          c                620.0                        9.0   \n",
       "4      5         a          a              29910.0                        4.0   \n",
       "\n",
       "   CompetitionOpenSinceYear  Promo2  Promo2SinceWeek  Promo2SinceYear  \\\n",
       "0                    2008.0       0              NaN              NaN   \n",
       "1                    2007.0       1             13.0           2010.0   \n",
       "2                    2006.0       1             14.0           2011.0   \n",
       "3                    2009.0       0              NaN              NaN   \n",
       "4                    2015.0       0              NaN              NaN   \n",
       "\n",
       "     PromoInterval  \n",
       "0              NaN  \n",
       "1  Jan,Apr,Jul,Oct  \n",
       "2  Jan,Apr,Jul,Oct  \n",
       "3              NaN  \n",
       "4              NaN  "
      ]
     },
     "execution_count": 89,
     "metadata": {},
     "output_type": "execute_result"
    }
   ],
   "source": [
    "store_data.head()"
   ]
  },
  {
   "cell_type": "code",
   "execution_count": 90,
   "id": "230981e7",
   "metadata": {},
   "outputs": [
    {
     "data": {
      "text/html": [
       "<div>\n",
       "<style scoped>\n",
       "    .dataframe tbody tr th:only-of-type {\n",
       "        vertical-align: middle;\n",
       "    }\n",
       "\n",
       "    .dataframe tbody tr th {\n",
       "        vertical-align: top;\n",
       "    }\n",
       "\n",
       "    .dataframe thead th {\n",
       "        text-align: right;\n",
       "    }\n",
       "</style>\n",
       "<table border=\"1\" class=\"dataframe\">\n",
       "  <thead>\n",
       "    <tr style=\"text-align: right;\">\n",
       "      <th></th>\n",
       "      <th>Store</th>\n",
       "      <th>StoreType</th>\n",
       "      <th>Assortment</th>\n",
       "      <th>CompetitionDistance</th>\n",
       "      <th>CompetitionOpenSinceMonth</th>\n",
       "      <th>CompetitionOpenSinceYear</th>\n",
       "      <th>Promo2</th>\n",
       "      <th>Promo2SinceWeek</th>\n",
       "      <th>Promo2SinceYear</th>\n",
       "      <th>PromoInterval</th>\n",
       "    </tr>\n",
       "  </thead>\n",
       "  <tbody>\n",
       "    <tr>\n",
       "      <th>1110</th>\n",
       "      <td>1111</td>\n",
       "      <td>a</td>\n",
       "      <td>a</td>\n",
       "      <td>1900.0</td>\n",
       "      <td>6.0</td>\n",
       "      <td>2014.0</td>\n",
       "      <td>1</td>\n",
       "      <td>31.0</td>\n",
       "      <td>2013.0</td>\n",
       "      <td>Jan,Apr,Jul,Oct</td>\n",
       "    </tr>\n",
       "    <tr>\n",
       "      <th>1111</th>\n",
       "      <td>1112</td>\n",
       "      <td>c</td>\n",
       "      <td>c</td>\n",
       "      <td>1880.0</td>\n",
       "      <td>4.0</td>\n",
       "      <td>2006.0</td>\n",
       "      <td>0</td>\n",
       "      <td>NaN</td>\n",
       "      <td>NaN</td>\n",
       "      <td>NaN</td>\n",
       "    </tr>\n",
       "    <tr>\n",
       "      <th>1112</th>\n",
       "      <td>1113</td>\n",
       "      <td>a</td>\n",
       "      <td>c</td>\n",
       "      <td>9260.0</td>\n",
       "      <td>NaN</td>\n",
       "      <td>NaN</td>\n",
       "      <td>0</td>\n",
       "      <td>NaN</td>\n",
       "      <td>NaN</td>\n",
       "      <td>NaN</td>\n",
       "    </tr>\n",
       "    <tr>\n",
       "      <th>1113</th>\n",
       "      <td>1114</td>\n",
       "      <td>a</td>\n",
       "      <td>c</td>\n",
       "      <td>870.0</td>\n",
       "      <td>NaN</td>\n",
       "      <td>NaN</td>\n",
       "      <td>0</td>\n",
       "      <td>NaN</td>\n",
       "      <td>NaN</td>\n",
       "      <td>NaN</td>\n",
       "    </tr>\n",
       "    <tr>\n",
       "      <th>1114</th>\n",
       "      <td>1115</td>\n",
       "      <td>d</td>\n",
       "      <td>c</td>\n",
       "      <td>5350.0</td>\n",
       "      <td>NaN</td>\n",
       "      <td>NaN</td>\n",
       "      <td>1</td>\n",
       "      <td>22.0</td>\n",
       "      <td>2012.0</td>\n",
       "      <td>Mar,Jun,Sept,Dec</td>\n",
       "    </tr>\n",
       "  </tbody>\n",
       "</table>\n",
       "</div>"
      ],
      "text/plain": [
       "      Store StoreType Assortment  CompetitionDistance  \\\n",
       "1110   1111         a          a               1900.0   \n",
       "1111   1112         c          c               1880.0   \n",
       "1112   1113         a          c               9260.0   \n",
       "1113   1114         a          c                870.0   \n",
       "1114   1115         d          c               5350.0   \n",
       "\n",
       "      CompetitionOpenSinceMonth  CompetitionOpenSinceYear  Promo2  \\\n",
       "1110                        6.0                    2014.0       1   \n",
       "1111                        4.0                    2006.0       0   \n",
       "1112                        NaN                       NaN       0   \n",
       "1113                        NaN                       NaN       0   \n",
       "1114                        NaN                       NaN       1   \n",
       "\n",
       "      Promo2SinceWeek  Promo2SinceYear     PromoInterval  \n",
       "1110             31.0           2013.0   Jan,Apr,Jul,Oct  \n",
       "1111              NaN              NaN               NaN  \n",
       "1112              NaN              NaN               NaN  \n",
       "1113              NaN              NaN               NaN  \n",
       "1114             22.0           2012.0  Mar,Jun,Sept,Dec  "
      ]
     },
     "execution_count": 90,
     "metadata": {},
     "output_type": "execute_result"
    }
   ],
   "source": [
    "store_data.tail()"
   ]
  },
  {
   "cell_type": "code",
   "execution_count": 91,
   "id": "bb73fd0d",
   "metadata": {},
   "outputs": [
    {
     "name": "stdout",
     "output_type": "stream",
     "text": [
      "The Store dataset has 1115 Rows (which means unique Shops) and 10 Variables\n"
     ]
    },
    {
     "data": {
      "text/plain": [
       "(Store                          int64\n",
       " StoreType                     object\n",
       " Assortment                    object\n",
       " CompetitionDistance          float64\n",
       " CompetitionOpenSinceMonth    float64\n",
       " CompetitionOpenSinceYear     float64\n",
       " Promo2                         int64\n",
       " Promo2SinceWeek              float64\n",
       " Promo2SinceYear              float64\n",
       " PromoInterval                 object\n",
       " dtype: object,\n",
       " None)"
      ]
     },
     "execution_count": 91,
     "metadata": {},
     "output_type": "execute_result"
    }
   ],
   "source": [
    "store_data.dtypes ,print (\"The Store dataset has {} Rows (which means unique Shops) and {} Variables\".format(str(store_data.shape[0]),str(store_data.shape[1]))) "
   ]
  },
  {
   "cell_type": "markdown",
   "id": "2b0ecf02",
   "metadata": {},
   "source": [
    "# Data Wrangling and Exploration:"
   ]
  },
  {
   "cell_type": "markdown",
   "id": "4fd35dc7",
   "metadata": {},
   "source": [
    "### How many missing fields each variable has:"
   ]
  },
  {
   "cell_type": "code",
   "execution_count": 92,
   "id": "a51d55ce",
   "metadata": {},
   "outputs": [
    {
     "data": {
      "text/plain": [
       "Store            100.0\n",
       "DayOfWeek        100.0\n",
       "Date             100.0\n",
       "Sales            100.0\n",
       "Customers        100.0\n",
       "Open             100.0\n",
       "Promo            100.0\n",
       "StateHoliday     100.0\n",
       "SchoolHoliday    100.0\n",
       "dtype: float64"
      ]
     },
     "execution_count": 92,
     "metadata": {},
     "output_type": "execute_result"
    }
   ],
   "source": [
    "train_to_data.count(0)/train_to_data.shape[0] * 100"
   ]
  },
  {
   "cell_type": "markdown",
   "id": "8371d13e",
   "metadata": {},
   "source": [
    "##### As showen above it can see that the the columns have got a good fill rate. it didn't need to do any change for the train set for now at least."
   ]
  },
  {
   "cell_type": "markdown",
   "id": "90c7b60e",
   "metadata": {},
   "source": [
    "###### Deep Dive on Stores Closed (which means 0 customers and 0 sales) on Certain days:"
   ]
  },
  {
   "cell_type": "code",
   "execution_count": 93,
   "id": "0f7d1269",
   "metadata": {},
   "outputs": [
    {
     "name": "stdout",
     "output_type": "stream",
     "text": [
      "\n",
      "-Over those two years, 172817 is the number of times that different stores closed on given days.\n",
      "\n",
      "-From those closed events, 3067 times occured because there was a school holiday. \n",
      "\n",
      "-And 30140 times it occured because of either a bank holiday or easter or christmas.\n",
      "\n",
      "-But interestingly enough, 139610 times those shops closed on days for no apparent reason when no holiday was announced. In fact, those closings were done with no pattern whatsoever and in this case from 2013 to 2015 at almost any month and any day.\n",
      "\n"
     ]
    }
   ],
   "source": [
    "print ()\n",
    "print (\"-Over those two years, {} is the number of times that different stores closed on given days.\".format(train_to_data[(train_to_data.Open == 0)].count()[0]))\n",
    "print ()\n",
    "print (\"-From those closed events, {} times occured because there was a school holiday. \" .format(train_to_data[(train_to_data.Open == 0) & (train_to_data.SchoolHoliday == 1)&(train_to_data.StateHoliday == '0') ].count()[0]))\n",
    "print ()\n",
    "print (\"-And {} times it occured because of either a bank holiday or easter or christmas.\".format(train_to_data[(train_to_data.Open == 0) &\n",
    "         ((train_to_data.StateHoliday == 'a') |\n",
    "          (train_to_data.StateHoliday == 'b') | \n",
    "          (train_to_data.StateHoliday == 'c'))].count()[0]))\n",
    "\n",
    "print ()\n",
    "print (\"-But interestingly enough, {} times those shops closed on days for no apparent reason when no holiday was announced. In fact, those closings were done with no pattern whatsoever and in this case from 2013 to 2015 at almost any month and any day.\".format(train_to_data[(train_to_data.Open == 0) &\n",
    "         (train_to_data.StateHoliday == \"0\")\n",
    "         &(train_to_data.SchoolHoliday == 0)].count()[0]))\n",
    "print ()"
   ]
  },
  {
   "cell_type": "code",
   "execution_count": null,
   "id": "acdc75a9",
   "metadata": {},
   "outputs": [],
   "source": []
  },
  {
   "cell_type": "code",
   "execution_count": 94,
   "id": "03a93fec",
   "metadata": {},
   "outputs": [],
   "source": [
    "train_to_data=train_to_data.drop(train_to_data[(train_to_data.Open == 0) & (train_to_data.Sales == 0)].index)"
   ]
  },
  {
   "cell_type": "code",
   "execution_count": 95,
   "id": "e1b609dc",
   "metadata": {},
   "outputs": [],
   "source": [
    "train_to_data= train_to_data.reset_index(drop=True) #making sure the indexes are back to [0,1,2,3 etc.] "
   ]
  },
  {
   "cell_type": "code",
   "execution_count": 96,
   "id": "42262a49",
   "metadata": {},
   "outputs": [
    {
     "name": "stdout",
     "output_type": "stream",
     "text": [
      "Our new training set has now 844392 rows \n"
     ]
    }
   ],
   "source": [
    "print (\"Our new training set has now {} rows \".format(train_to_data.shape[0]))"
   ]
  },
  {
   "cell_type": "markdown",
   "id": "66bfbe12",
   "metadata": {},
   "source": [
    "## What about the distribution of Sales and Customers in the train set? Any outliers?"
   ]
  },
  {
   "cell_type": "markdown",
   "id": "1d542f14",
   "metadata": {},
   "source": [
    "### 1) Sales:"
   ]
  },
  {
   "cell_type": "code",
   "execution_count": 97,
   "id": "53fb559f",
   "metadata": {},
   "outputs": [
    {
     "data": {
      "text/plain": [
       "count    844392.000000\n",
       "mean       6955.514291\n",
       "std        3104.214680\n",
       "min           0.000000\n",
       "25%        4859.000000\n",
       "50%        6369.000000\n",
       "75%        8360.000000\n",
       "max       41551.000000\n",
       "Name: Sales, dtype: float64"
      ]
     },
     "execution_count": 97,
     "metadata": {},
     "output_type": "execute_result"
    }
   ],
   "source": [
    "train_to_data.Sales.describe() \n",
    "#we see here a minimum of 0 which means some stores even opened got 0 sales on some days."
   ]
  },
  {
   "cell_type": "code",
   "execution_count": 98,
   "id": "8f16cc28",
   "metadata": {},
   "outputs": [],
   "source": [
    "train_to_data=train_to_data.drop(train_to_data[(train_to_data.Open == 1) & (train_to_data.Sales == 0)].index)\n",
    "train_to_data = train_to_data.reset_index(drop=True) "
   ]
  },
  {
   "cell_type": "code",
   "execution_count": 99,
   "id": "482b607e",
   "metadata": {},
   "outputs": [
    {
     "data": {
      "text/plain": [
       "{'Mean': 6955.959133664481, 'Median': 6369.0}"
      ]
     },
     "execution_count": 99,
     "metadata": {},
     "output_type": "execute_result"
    },
    {
     "data": {
      "image/png": "[encoded data removed]",
      "text/plain": [
       "<Figure size 1224x252 with 2 Axes>"
      ]
     },
     "metadata": {
      "needs_background": "light"
     },
     "output_type": "display_data"
    }
   ],
   "source": [
    "fig, axes = plt.subplots(1, 2, figsize=(17,3.5))\n",
    "axes[0].boxplot(train_to_data.Sales, showmeans=True,vert=False)\n",
    "axes[0].set_xlim(0,max(train_to_data[\"Sales\"]+1000))\n",
    "axes[0].set_title('Boxplot For Sales Values')\n",
    "axes[1].hist(train_to_data.Sales, cumulative=False, bins=20)\n",
    "axes[1].set_title(\"Sales histogram\")\n",
    "axes[1].set_xlim((min(train_to_data.Sales), max(train_to_data.Sales)))\n",
    "\n",
    "{\"Mean\":np.mean(train_to_data.Sales),\"Median\":np.median(train_to_data.Sales)}"
   ]
  },
  {
   "cell_type": "code",
   "execution_count": 100,
   "id": "0e342666",
   "metadata": {},
   "outputs": [
    {
     "name": "stdout",
     "output_type": "stream",
     "text": [
      "3.21% of the time Rossman are actually having big sales day (considered outliers).\n",
      "0.00% of the time Rossman are actually having no sales at all.\n"
     ]
    }
   ],
   "source": [
    "print (\"{0:.2f}% of the time Rossman are actually having big sales day (considered outliers).\".format(train_to_data[train_to_data.Sales>14000].count()[0]/train_to_data.shape[0]*100))\n",
    "print (\"{0:.2f}% of the time Rossman are actually having no sales at all.\".format(train_to_data[train_to_data.Sales==0].count()[0]/train_to_data.shape[0]*100))"
   ]
  },
  {
   "cell_type": "code",
   "execution_count": 101,
   "id": "3c4ff6e4",
   "metadata": {},
   "outputs": [
    {
     "data": {
      "text/plain": [
       "count    844338.000000\n",
       "mean        762.777166\n",
       "std         401.194153\n",
       "min           8.000000\n",
       "25%         519.000000\n",
       "50%         676.000000\n",
       "75%         893.000000\n",
       "max        7388.000000\n",
       "Name: Customers, dtype: float64"
      ]
     },
     "execution_count": 101,
     "metadata": {},
     "output_type": "execute_result"
    }
   ],
   "source": [
    "train_to_data.Customers.describe()  "
   ]
  },
  {
   "cell_type": "code",
   "execution_count": 102,
   "id": "70f43c63",
   "metadata": {},
   "outputs": [
    {
     "data": {
      "text/plain": [
       "{'Mean': 762.777166253325, 'Median': 676.0}"
      ]
     },
     "execution_count": 102,
     "metadata": {},
     "output_type": "execute_result"
    },
    {
     "data": {
      "image/png": "[encoded data removed]",
      "text/plain": [
       "<Figure size 1224x252 with 2 Axes>"
      ]
     },
     "metadata": {
      "needs_background": "light"
     },
     "output_type": "display_data"
    }
   ],
   "source": [
    "fig, axes = plt.subplots(1, 2, figsize=(17,3.5))\n",
    "axes[0].boxplot(train_to_data.Customers, showmeans=True,vert=False)\n",
    "axes[0].set_xlim(0,max(train_to_data[\"Customers\"]+100))\n",
    "axes[0].set_title('Boxplot For Customer Values')\n",
    "axes[1].hist(train_to_data.Customers, cumulative=False, bins=20)\n",
    "axes[1].set_title(\"Customers histogram\")\n",
    "axes[1].set_xlim((min(train_to_data.Customers), max(train_to_data.Customers)))\n",
    "\n",
    "{\"Mean\":np.mean(train_to_data.Customers),\"Median\":np.median(train_to_data.Customers)}"
   ]
  },
  {
   "cell_type": "code",
   "execution_count": 103,
   "id": "8e865060",
   "metadata": {},
   "outputs": [
    {
     "name": "stdout",
     "output_type": "stream",
     "text": [
      "4.37% of the time Rossman are actually having customers more than usual (considered outliers).\n",
      "0.00% of the time Rossman are actually having no customers at all.\n"
     ]
    }
   ],
   "source": [
    "print (\"{0:.2f}% of the time Rossman are actually having customers more than usual (considered outliers).\".format(train_to_data[train_to_data.Customers>1500].count()[0]/train_to_data.shape[0]*100))\n",
    "print (\"{0:.2f}% of the time Rossman are actually having no customers at all.\".format(train_to_data[train_to_data.Customers==0].count()[0]/train_to_data.shape[0]*100))"
   ]
  },
  {
   "cell_type": "code",
   "execution_count": 104,
   "id": "b799b4e1",
   "metadata": {},
   "outputs": [
    {
     "data": {
      "text/html": [
       "<div>\n",
       "<style scoped>\n",
       "    .dataframe tbody tr th:only-of-type {\n",
       "        vertical-align: middle;\n",
       "    }\n",
       "\n",
       "    .dataframe tbody tr th {\n",
       "        vertical-align: top;\n",
       "    }\n",
       "\n",
       "    .dataframe thead th {\n",
       "        text-align: right;\n",
       "    }\n",
       "</style>\n",
       "<table border=\"1\" class=\"dataframe\">\n",
       "  <thead>\n",
       "    <tr style=\"text-align: right;\">\n",
       "      <th></th>\n",
       "      <th>Store</th>\n",
       "      <th>DayOfWeek</th>\n",
       "      <th>Date</th>\n",
       "      <th>Sales</th>\n",
       "      <th>Customers</th>\n",
       "      <th>Open</th>\n",
       "      <th>Promo</th>\n",
       "      <th>StateHoliday</th>\n",
       "      <th>SchoolHoliday</th>\n",
       "    </tr>\n",
       "  </thead>\n",
       "  <tbody>\n",
       "    <tr>\n",
       "      <th>825160</th>\n",
       "      <td>817</td>\n",
       "      <td>2</td>\n",
       "      <td>2013-01-22</td>\n",
       "      <td>27190</td>\n",
       "      <td>7388</td>\n",
       "      <td>1</td>\n",
       "      <td>1</td>\n",
       "      <td>0</td>\n",
       "      <td>0</td>\n",
       "    </tr>\n",
       "  </tbody>\n",
       "</table>\n",
       "</div>"
      ],
      "text/plain": [
       "        Store  DayOfWeek       Date  Sales  Customers  Open  Promo  \\\n",
       "825160    817          2 2013-01-22  27190       7388     1      1   \n",
       "\n",
       "       StateHoliday  SchoolHoliday  \n",
       "825160            0              0  "
      ]
     },
     "execution_count": 104,
     "metadata": {},
     "output_type": "execute_result"
    }
   ],
   "source": [
    "train_to_data[train_to_data.Customers>7000]"
   ]
  },
  {
   "cell_type": "code",
   "execution_count": 105,
   "id": "77699ad4",
   "metadata": {},
   "outputs": [
    {
     "data": {
      "text/plain": [
       "0.823551720200021"
      ]
     },
     "execution_count": 105,
     "metadata": {},
     "output_type": "execute_result"
    }
   ],
   "source": [
    "stats.pearsonr(train_to_data.Customers, train_to_data.Sales)[0]"
   ]
  },
  {
   "cell_type": "markdown",
   "id": "081ba331",
   "metadata": {},
   "source": [
    "### A closer look at the Store Dataset:"
   ]
  },
  {
   "cell_type": "code",
   "execution_count": 106,
   "id": "1c150302",
   "metadata": {},
   "outputs": [
    {
     "data": {
      "text/plain": [
       "Store                        100.000000\n",
       "StoreType                    100.000000\n",
       "Assortment                   100.000000\n",
       "CompetitionDistance           99.730942\n",
       "CompetitionOpenSinceMonth     68.251121\n",
       "CompetitionOpenSinceYear      68.251121\n",
       "Promo2                       100.000000\n",
       "Promo2SinceWeek               51.210762\n",
       "Promo2SinceYear               51.210762\n",
       "PromoInterval                 51.210762\n",
       "dtype: float64"
      ]
     },
     "execution_count": 106,
     "metadata": {},
     "output_type": "execute_result"
    }
   ],
   "source": [
    "store_data.count(0)/store_data.shape[0] * 100"
   ]
  },
  {
   "cell_type": "markdown",
   "id": "3f2d18f7",
   "metadata": {},
   "source": [
    "### Let's start the cleansing process by order:\n",
    "CompetitionDistance:"
   ]
  },
  {
   "cell_type": "code",
   "execution_count": 107,
   "id": "8ba789ec",
   "metadata": {},
   "outputs": [
    {
     "data": {
      "text/html": [
       "<div>\n",
       "<style scoped>\n",
       "    .dataframe tbody tr th:only-of-type {\n",
       "        vertical-align: middle;\n",
       "    }\n",
       "\n",
       "    .dataframe tbody tr th {\n",
       "        vertical-align: top;\n",
       "    }\n",
       "\n",
       "    .dataframe thead th {\n",
       "        text-align: right;\n",
       "    }\n",
       "</style>\n",
       "<table border=\"1\" class=\"dataframe\">\n",
       "  <thead>\n",
       "    <tr style=\"text-align: right;\">\n",
       "      <th></th>\n",
       "      <th>Store</th>\n",
       "      <th>StoreType</th>\n",
       "      <th>Assortment</th>\n",
       "      <th>CompetitionDistance</th>\n",
       "      <th>CompetitionOpenSinceMonth</th>\n",
       "      <th>CompetitionOpenSinceYear</th>\n",
       "      <th>Promo2</th>\n",
       "      <th>Promo2SinceWeek</th>\n",
       "      <th>Promo2SinceYear</th>\n",
       "      <th>PromoInterval</th>\n",
       "    </tr>\n",
       "  </thead>\n",
       "  <tbody>\n",
       "    <tr>\n",
       "      <th>290</th>\n",
       "      <td>291</td>\n",
       "      <td>d</td>\n",
       "      <td>a</td>\n",
       "      <td>NaN</td>\n",
       "      <td>NaN</td>\n",
       "      <td>NaN</td>\n",
       "      <td>0</td>\n",
       "      <td>NaN</td>\n",
       "      <td>NaN</td>\n",
       "      <td>NaN</td>\n",
       "    </tr>\n",
       "    <tr>\n",
       "      <th>621</th>\n",
       "      <td>622</td>\n",
       "      <td>a</td>\n",
       "      <td>c</td>\n",
       "      <td>NaN</td>\n",
       "      <td>NaN</td>\n",
       "      <td>NaN</td>\n",
       "      <td>0</td>\n",
       "      <td>NaN</td>\n",
       "      <td>NaN</td>\n",
       "      <td>NaN</td>\n",
       "    </tr>\n",
       "    <tr>\n",
       "      <th>878</th>\n",
       "      <td>879</td>\n",
       "      <td>d</td>\n",
       "      <td>a</td>\n",
       "      <td>NaN</td>\n",
       "      <td>NaN</td>\n",
       "      <td>NaN</td>\n",
       "      <td>1</td>\n",
       "      <td>5.0</td>\n",
       "      <td>2013.0</td>\n",
       "      <td>Feb,May,Aug,Nov</td>\n",
       "    </tr>\n",
       "  </tbody>\n",
       "</table>\n",
       "</div>"
      ],
      "text/plain": [
       "     Store StoreType Assortment  CompetitionDistance  \\\n",
       "290    291         d          a                  NaN   \n",
       "621    622         a          c                  NaN   \n",
       "878    879         d          a                  NaN   \n",
       "\n",
       "     CompetitionOpenSinceMonth  CompetitionOpenSinceYear  Promo2  \\\n",
       "290                        NaN                       NaN       0   \n",
       "621                        NaN                       NaN       0   \n",
       "878                        NaN                       NaN       1   \n",
       "\n",
       "     Promo2SinceWeek  Promo2SinceYear    PromoInterval  \n",
       "290              NaN              NaN              NaN  \n",
       "621              NaN              NaN              NaN  \n",
       "878              5.0           2013.0  Feb,May,Aug,Nov  "
      ]
     },
     "execution_count": 107,
     "metadata": {},
     "output_type": "execute_result"
    }
   ],
   "source": [
    "store_data[pd.isnull(store_data.CompetitionDistance)] \n",
    "#rows with missing values for Competition Distance, only 3 rows with null which makes sense since 99.73% is filled"
   ]
  },
  {
   "cell_type": "markdown",
   "id": "86fd94c7",
   "metadata": {},
   "source": [
    "Before deciding how to treat this,we know there are infinite ways of filling missing values.\n",
    "The most common and simplistic approach is to fill it with either the mean or the median of this variable.\n",
    "Let's quickly have a look at those metrics."
   ]
  },
  {
   "cell_type": "code",
   "execution_count": 108,
   "id": "829da1bd",
   "metadata": {},
   "outputs": [
    {
     "data": {
      "text/plain": [
       "{'Mean': 5404.901079136691,\n",
       " 'Median': 2325.0,\n",
       " 'Standard Dev': 7659.7282732764415}"
      ]
     },
     "execution_count": 108,
     "metadata": {},
     "output_type": "execute_result"
    },
    {
     "data": {
      "image/png": "[encoded data removed]",
      "text/plain": [
       "<Figure size 1224x252 with 2 Axes>"
      ]
     },
     "metadata": {
      "needs_background": "light"
     },
     "output_type": "display_data"
    }
   ],
   "source": [
    "store_data_check_distribution=store_data.drop(store_data[pd.isnull(store_data.CompetitionDistance)].index)\n",
    "fig, axes = plt.subplots(1, 2, figsize=(17,3.5))\n",
    "axes[0].boxplot(store_data_check_distribution.CompetitionDistance, showmeans=True,vert=False,)\n",
    "axes[0].set_xlim(0,max(store_data_check_distribution.CompetitionDistance+1000))\n",
    "axes[0].set_title('Boxplot For Closest Competition')\n",
    "axes[1].hist(store_data_check_distribution.CompetitionDistance, cumulative=False, bins=30)\n",
    "axes[1].set_title(\"Closest Competition histogram\")\n",
    "axes[1].set_xlim((min(store_data_check_distribution.CompetitionDistance), max(store_data_check_distribution.CompetitionDistance)))\n",
    "{\"Mean\":np.nanmean(store_data.CompetitionDistance),\"Median\":np.nanmedian(store_data.CompetitionDistance),\"Standard Dev\":np.nanstd(store_data.CompetitionDistance)}#That's what i thought, very different values, let's see why "
   ]
  },
  {
   "cell_type": "code",
   "execution_count": 109,
   "id": "2c8670f8",
   "metadata": {},
   "outputs": [],
   "source": [
    "store_data['CompetitionDistance'].fillna(store_data['CompetitionDistance'].median(), inplace = True)"
   ]
  },
  {
   "cell_type": "code",
   "execution_count": 110,
   "id": "02ba1849",
   "metadata": {},
   "outputs": [],
   "source": [
    "store_data.CompetitionOpenSinceMonth.fillna(0, inplace = True)\n",
    "store_data.CompetitionOpenSinceYear.fillna(0,inplace=True)"
   ]
  },
  {
   "cell_type": "code",
   "execution_count": 111,
   "id": "66248a65",
   "metadata": {},
   "outputs": [],
   "source": [
    "store_data.Promo2SinceWeek.fillna(0,inplace=True)\n",
    "store_data.Promo2SinceYear.fillna(0,inplace=True)\n",
    "store_data.PromoInterval.fillna(0,inplace=True)"
   ]
  },
  {
   "cell_type": "code",
   "execution_count": 112,
   "id": "508239cd",
   "metadata": {},
   "outputs": [
    {
     "data": {
      "text/plain": [
       "Store                        100.0\n",
       "StoreType                    100.0\n",
       "Assortment                   100.0\n",
       "CompetitionDistance          100.0\n",
       "CompetitionOpenSinceMonth    100.0\n",
       "CompetitionOpenSinceYear     100.0\n",
       "Promo2                       100.0\n",
       "Promo2SinceWeek              100.0\n",
       "Promo2SinceYear              100.0\n",
       "PromoInterval                100.0\n",
       "dtype: float64"
      ]
     },
     "execution_count": 112,
     "metadata": {},
     "output_type": "execute_result"
    }
   ],
   "source": [
    "store_data.count(0)/store_data.shape[0] * 100"
   ]
  },
  {
   "cell_type": "code",
   "execution_count": 113,
   "id": "4050a1e5",
   "metadata": {},
   "outputs": [
    {
     "name": "stdout",
     "output_type": "stream",
     "text": [
      "The Train_Store dataset has 844338 Rows and 18 Variables\n"
     ]
    }
   ],
   "source": [
    "#Left-join the train to the store dataset since .Why?\n",
    "#Because you want to make sure you have all events even if some of them don't have their store information ( which shouldn't happen)\n",
    "train_store_data = pd.merge(train_to_data, store_data, how = 'left', on = 'Store')\n",
    "train_store_data.head() \n",
    "print (\"The Train_Store dataset has {} Rows and {} Variables\".format(str(train_store_data.shape[0]),str(train_store_data.shape[1]))) "
   ]
  },
  {
   "cell_type": "markdown",
   "id": "33bf44a5",
   "metadata": {},
   "source": [
    "## Store Type Analysis:"
   ]
  },
  {
   "cell_type": "code",
   "execution_count": 114,
   "id": "a99c6a28",
   "metadata": {},
   "outputs": [],
   "source": [
    "train_store_data['SalesperCustomer']=train_store_data['Sales']/train_store_data['Customers']"
   ]
  },
  {
   "cell_type": "code",
   "execution_count": 115,
   "id": "955caee5",
   "metadata": {},
   "outputs": [
    {
     "data": {
      "text/html": [
       "<div>\n",
       "<style scoped>\n",
       "    .dataframe tbody tr th:only-of-type {\n",
       "        vertical-align: middle;\n",
       "    }\n",
       "\n",
       "    .dataframe tbody tr th {\n",
       "        vertical-align: top;\n",
       "    }\n",
       "\n",
       "    .dataframe thead th {\n",
       "        text-align: right;\n",
       "    }\n",
       "</style>\n",
       "<table border=\"1\" class=\"dataframe\">\n",
       "  <thead>\n",
       "    <tr style=\"text-align: right;\">\n",
       "      <th></th>\n",
       "      <th>Store</th>\n",
       "      <th>DayOfWeek</th>\n",
       "      <th>Date</th>\n",
       "      <th>Sales</th>\n",
       "      <th>Customers</th>\n",
       "      <th>Open</th>\n",
       "      <th>Promo</th>\n",
       "      <th>StateHoliday</th>\n",
       "      <th>SchoolHoliday</th>\n",
       "      <th>StoreType</th>\n",
       "      <th>Assortment</th>\n",
       "      <th>CompetitionDistance</th>\n",
       "      <th>CompetitionOpenSinceMonth</th>\n",
       "      <th>CompetitionOpenSinceYear</th>\n",
       "      <th>Promo2</th>\n",
       "      <th>Promo2SinceWeek</th>\n",
       "      <th>Promo2SinceYear</th>\n",
       "      <th>PromoInterval</th>\n",
       "      <th>SalesperCustomer</th>\n",
       "    </tr>\n",
       "  </thead>\n",
       "  <tbody>\n",
       "    <tr>\n",
       "      <th>0</th>\n",
       "      <td>1</td>\n",
       "      <td>5</td>\n",
       "      <td>2015-07-31</td>\n",
       "      <td>5263</td>\n",
       "      <td>555</td>\n",
       "      <td>1</td>\n",
       "      <td>1</td>\n",
       "      <td>0</td>\n",
       "      <td>1</td>\n",
       "      <td>c</td>\n",
       "      <td>a</td>\n",
       "      <td>1270.0</td>\n",
       "      <td>9.0</td>\n",
       "      <td>2008.0</td>\n",
       "      <td>0</td>\n",
       "      <td>0.0</td>\n",
       "      <td>0.0</td>\n",
       "      <td>0</td>\n",
       "      <td>9.482883</td>\n",
       "    </tr>\n",
       "    <tr>\n",
       "      <th>1</th>\n",
       "      <td>2</td>\n",
       "      <td>5</td>\n",
       "      <td>2015-07-31</td>\n",
       "      <td>6064</td>\n",
       "      <td>625</td>\n",
       "      <td>1</td>\n",
       "      <td>1</td>\n",
       "      <td>0</td>\n",
       "      <td>1</td>\n",
       "      <td>a</td>\n",
       "      <td>a</td>\n",
       "      <td>570.0</td>\n",
       "      <td>11.0</td>\n",
       "      <td>2007.0</td>\n",
       "      <td>1</td>\n",
       "      <td>13.0</td>\n",
       "      <td>2010.0</td>\n",
       "      <td>Jan,Apr,Jul,Oct</td>\n",
       "      <td>9.702400</td>\n",
       "    </tr>\n",
       "    <tr>\n",
       "      <th>2</th>\n",
       "      <td>3</td>\n",
       "      <td>5</td>\n",
       "      <td>2015-07-31</td>\n",
       "      <td>8314</td>\n",
       "      <td>821</td>\n",
       "      <td>1</td>\n",
       "      <td>1</td>\n",
       "      <td>0</td>\n",
       "      <td>1</td>\n",
       "      <td>a</td>\n",
       "      <td>a</td>\n",
       "      <td>14130.0</td>\n",
       "      <td>12.0</td>\n",
       "      <td>2006.0</td>\n",
       "      <td>1</td>\n",
       "      <td>14.0</td>\n",
       "      <td>2011.0</td>\n",
       "      <td>Jan,Apr,Jul,Oct</td>\n",
       "      <td>10.126675</td>\n",
       "    </tr>\n",
       "    <tr>\n",
       "      <th>3</th>\n",
       "      <td>4</td>\n",
       "      <td>5</td>\n",
       "      <td>2015-07-31</td>\n",
       "      <td>13995</td>\n",
       "      <td>1498</td>\n",
       "      <td>1</td>\n",
       "      <td>1</td>\n",
       "      <td>0</td>\n",
       "      <td>1</td>\n",
       "      <td>c</td>\n",
       "      <td>c</td>\n",
       "      <td>620.0</td>\n",
       "      <td>9.0</td>\n",
       "      <td>2009.0</td>\n",
       "      <td>0</td>\n",
       "      <td>0.0</td>\n",
       "      <td>0.0</td>\n",
       "      <td>0</td>\n",
       "      <td>9.342457</td>\n",
       "    </tr>\n",
       "    <tr>\n",
       "      <th>4</th>\n",
       "      <td>5</td>\n",
       "      <td>5</td>\n",
       "      <td>2015-07-31</td>\n",
       "      <td>4822</td>\n",
       "      <td>559</td>\n",
       "      <td>1</td>\n",
       "      <td>1</td>\n",
       "      <td>0</td>\n",
       "      <td>1</td>\n",
       "      <td>a</td>\n",
       "      <td>a</td>\n",
       "      <td>29910.0</td>\n",
       "      <td>4.0</td>\n",
       "      <td>2015.0</td>\n",
       "      <td>0</td>\n",
       "      <td>0.0</td>\n",
       "      <td>0.0</td>\n",
       "      <td>0</td>\n",
       "      <td>8.626118</td>\n",
       "    </tr>\n",
       "  </tbody>\n",
       "</table>\n",
       "</div>"
      ],
      "text/plain": [
       "   Store  DayOfWeek       Date  Sales  Customers  Open  Promo StateHoliday  \\\n",
       "0      1          5 2015-07-31   5263        555     1      1            0   \n",
       "1      2          5 2015-07-31   6064        625     1      1            0   \n",
       "2      3          5 2015-07-31   8314        821     1      1            0   \n",
       "3      4          5 2015-07-31  13995       1498     1      1            0   \n",
       "4      5          5 2015-07-31   4822        559     1      1            0   \n",
       "\n",
       "   SchoolHoliday StoreType Assortment  CompetitionDistance  \\\n",
       "0              1         c          a               1270.0   \n",
       "1              1         a          a                570.0   \n",
       "2              1         a          a              14130.0   \n",
       "3              1         c          c                620.0   \n",
       "4              1         a          a              29910.0   \n",
       "\n",
       "   CompetitionOpenSinceMonth  CompetitionOpenSinceYear  Promo2  \\\n",
       "0                        9.0                    2008.0       0   \n",
       "1                       11.0                    2007.0       1   \n",
       "2                       12.0                    2006.0       1   \n",
       "3                        9.0                    2009.0       0   \n",
       "4                        4.0                    2015.0       0   \n",
       "\n",
       "   Promo2SinceWeek  Promo2SinceYear    PromoInterval  SalesperCustomer  \n",
       "0              0.0              0.0                0          9.482883  \n",
       "1             13.0           2010.0  Jan,Apr,Jul,Oct          9.702400  \n",
       "2             14.0           2011.0  Jan,Apr,Jul,Oct         10.126675  \n",
       "3              0.0              0.0                0          9.342457  \n",
       "4              0.0              0.0                0          8.626118  "
      ]
     },
     "execution_count": 115,
     "metadata": {},
     "output_type": "execute_result"
    }
   ],
   "source": [
    "train_store_data.head()"
   ]
  },
  {
   "cell_type": "code",
   "execution_count": 116,
   "id": "f67b1597",
   "metadata": {},
   "outputs": [
    {
     "data": {
      "image/png": "[encoded data removed]",
      "text/plain": [
       "<Figure size 1224x720 with 6 Axes>"
      ]
     },
     "metadata": {
      "needs_background": "light"
     },
     "output_type": "display_data"
    }
   ],
   "source": [
    "fig, axes = plt.subplots(2, 3,figsize=(17,10) )\n",
    "palette = itertools.cycle(sns.color_palette(n_colors=4))\n",
    "plt.subplots_adjust(hspace = 0.28)\n",
    "#axes[1].train_Data_store.groupby(by=\"StoreType\").count().Store.plot(kind='bar')\n",
    "axes[0,0].bar(store_data.groupby(by=\"StoreType\").count().Store.index,store_data.groupby(by=\"StoreType\").count().Store,color=[next(palette),next(palette),next(palette),next(palette)])\n",
    "axes[0,0].set_title(\"Number of Stores per Store Type \\n Fig 1.1\")\n",
    "axes[0,1].bar(train_store_data.groupby(by=\"StoreType\").sum().Sales.index,train_store_data.groupby(by=\"StoreType\").sum().Sales/1e9,color=[next(palette),next(palette),next(palette),next(palette)])\n",
    "axes[0,1].set_title(\"Total Sales per Store Type (in Billions) \\n Fig 1.2\")\n",
    "axes[0,2].bar(train_store_data.groupby(by=\"StoreType\").sum().Customers.index,train_store_data.groupby(by=\"StoreType\").sum().Customers/1e6,color=[next(palette),next(palette),next(palette),next(palette)])\n",
    "axes[0,2].set_title(\"Total Number of Customers per Store Type (in Millions) \\n Fig 1.3\")\n",
    "axes[1,0].bar(train_store_data.groupby(by=\"StoreType\").sum().Customers.index,train_store_data.groupby(by=\"StoreType\").Sales.mean(),color=[next(palette),next(palette),next(palette),next(palette)])\n",
    "axes[1,0].set_title(\"Average Sales per Store Type \\n Fig 1.4\")\n",
    "axes[1,1].bar(train_store_data.groupby(by=\"StoreType\").sum().Customers.index,train_store_data.groupby(by=\"StoreType\").Customers.mean(),color=[next(palette),next(palette),next(palette),next(palette)])\n",
    "axes[1,1].set_title(\"Average Number of Customers per Store Type \\n Fig 1.5\")\n",
    "\n",
    "axes[1,2].bar(train_store_data.groupby(by=\"StoreType\").sum().Sales.index,train_store_data.groupby(by=\"StoreType\").SalesperCustomer.mean(),color=[next(palette),next(palette),next(palette),next(palette)])\n",
    "axes[1,2].set_title(\"Average Spending per Customer in each Store Type \\n Fig 1.6\")\n",
    "plt.show()"
   ]
  },
  {
   "cell_type": "raw",
   "id": "1e9946cf",
   "metadata": {},
   "source": [
    "Assortments:\n",
    "As we cited in the description, assortments have three types and each store has a defined type and assortment type:\n",
    "\n",
    "a means basic things\n",
    "b means extra things\n",
    "c means extended things so the highest variety of products.\n",
    "What could be interesting is to see the relationship between a store type and its respective assortment type."
   ]
  },
  {
   "cell_type": "code",
   "execution_count": 117,
   "id": "955fa840",
   "metadata": {},
   "outputs": [
    {
     "data": {
      "text/plain": [
       "StoreType  Assortment\n",
       "a          a             381\n",
       "           c             221\n",
       "b          a               7\n",
       "           b               9\n",
       "           c               1\n",
       "c          a              77\n",
       "           c              71\n",
       "d          a             128\n",
       "           c             220\n",
       "Name: Assortment, dtype: int64"
      ]
     },
     "execution_count": 117,
     "metadata": {},
     "output_type": "execute_result"
    },
    {
     "data": {
      "image/png": "[encoded data removed]",
      "text/plain": [
       "<Figure size 432x288 with 1 Axes>"
      ]
     },
     "metadata": {
      "needs_background": "light"
     },
     "output_type": "display_data"
    }
   ],
   "source": [
    "StoretypeXAssortment = sns.countplot(x=\"StoreType\",hue=\"Assortment\",order=[\"a\",\"b\",\"c\",\"d\"], data=store_data,palette=sns.color_palette(\"Set2\", n_colors=3)).set_title(\"Number of Different Assortments per Store Type\")\n",
    "store_data.groupby(by=[\"StoreType\",\"Assortment\"]).Assortment.count()"
   ]
  },
  {
   "cell_type": "raw",
   "id": "d81b76d9",
   "metadata": {},
   "source": [
    "Promotion:\n",
    "\n",
    "Let's see how Promotion affect the overall sales of Rossman by looking at when there is and when there isn't \n",
    "promotion over those 3 years. This allow us first to see the impact of promotion and as well to see the \n",
    "evolution of sales over specific years (so trends in a given year) and the gradual increase in sales from 2013 to 2015:"
   ]
  },
  {
   "cell_type": "code",
   "execution_count": 118,
   "id": "2c832fa1",
   "metadata": {},
   "outputs": [],
   "source": [
    "train_store_data['Month']=train_store_data.Date.dt.month\n",
    "train_store_data['Year']=train_store_data.Date.dt.year"
   ]
  },
  {
   "cell_type": "code",
   "execution_count": 119,
   "id": "47423c28",
   "metadata": {},
   "outputs": [
    {
     "data": {
      "text/plain": [
       "<seaborn.axisgrid.FacetGrid at 0x20d0649bdc0>"
      ]
     },
     "execution_count": 119,
     "metadata": {},
     "output_type": "execute_result"
    },
    {
     "data": {
      "image/png": "[encoded data removed]",
      "text/plain": [
       "<Figure size 765.75x1080 with 6 Axes>"
      ]
     },
     "metadata": {
      "needs_background": "light"
     },
     "output_type": "display_data"
    }
   ],
   "source": [
    "sns.factorplot(data = train_store_data, x =\"Month\", y = \"Sales\", \n",
    "               col = 'Promo', # per store type in cols\n",
    "               hue = 'Promo2',\n",
    "               row = \"Year\"\n",
    "              ,sharex=False)"
   ]
  },
  {
   "cell_type": "code",
   "execution_count": 120,
   "id": "4559fa85",
   "metadata": {},
   "outputs": [
    {
     "data": {
      "text/plain": [
       "<seaborn.axisgrid.FacetGrid at 0x20d308a7dc0>"
      ]
     },
     "execution_count": 120,
     "metadata": {},
     "output_type": "execute_result"
    },
    {
     "data": {
      "image/png": "[encoded data removed]",
      "text/plain": [
       "<Figure size 765.75x1080 with 6 Axes>"
      ]
     },
     "metadata": {
      "needs_background": "light"
     },
     "output_type": "display_data"
    }
   ],
   "source": [
    "sns.factorplot(data = train_store_data, x =\"Month\", y = \"SalesperCustomer\", \n",
    "               col = 'Promo', # per store type in cols\n",
    "               hue = 'Promo2',\n",
    "               row = \"Year\"\n",
    "              ,sharex=False)"
   ]
  },
  {
   "cell_type": "code",
   "execution_count": 121,
   "id": "4e4357ce",
   "metadata": {},
   "outputs": [
    {
     "ename": "SyntaxError",
     "evalue": "invalid syntax (67266583.py, line 1)",
     "output_type": "error",
     "traceback": [
      "\u001b[1;36m  Input \u001b[1;32mIn [121]\u001b[1;36m\u001b[0m\n\u001b[1;33m    Promotion impact as shown\u001b[0m\n\u001b[1;37m              ^\u001b[0m\n\u001b[1;31mSyntaxError\u001b[0m\u001b[1;31m:\u001b[0m invalid syntax\n"
     ]
    }
   ],
   "source": [
    "Promotion impact as shown "
   ]
  },
  {
   "cell_type": "code",
   "execution_count": null,
   "id": "3235d77f",
   "metadata": {},
   "outputs": [],
   "source": [
    "sns.factorplot(data = train_store_data, x =\"DayOfWeek\", y = \"Sales\",\n",
    "                hue='Promo'\n",
    "              ,sharex=False)"
   ]
  },
  {
   "cell_type": "code",
   "execution_count": 78,
   "id": "a9f990a7",
   "metadata": {},
   "outputs": [
    {
     "name": "stdout",
     "output_type": "stream",
     "text": [
      "Number of Stores opened on Sundays:33\n"
     ]
    }
   ],
   "source": [
    "#Stores are opened on Sundays\n",
    "print (\"Number of Stores opened on Sundays:{}\" .format(train_store_data[(train_store_data.Open == 1) & (train_store_data.DayOfWeek == 7)]['Store'].unique().shape[0]))"
   ]
  },
  {
   "cell_type": "markdown",
   "id": "e85b4782",
   "metadata": {},
   "source": [
    "##### computional Dsiatance "
   ]
  },
  {
   "cell_type": "code",
   "execution_count": 79,
   "id": "7d6e81a1",
   "metadata": {},
   "outputs": [],
   "source": [
    "train_store_data['CompetitionDist_Cat']=pd.cut(train_store_data['CompetitionDistance'], 5)"
   ]
  },
  {
   "cell_type": "code",
   "execution_count": 80,
   "id": "1363e8b5",
   "metadata": {},
   "outputs": [
    {
     "data": {
      "text/html": [
       "<div>\n",
       "<style scoped>\n",
       "    .dataframe tbody tr th:only-of-type {\n",
       "        vertical-align: middle;\n",
       "    }\n",
       "\n",
       "    .dataframe tbody tr th {\n",
       "        vertical-align: top;\n",
       "    }\n",
       "\n",
       "    .dataframe thead th {\n",
       "        text-align: right;\n",
       "    }\n",
       "</style>\n",
       "<table border=\"1\" class=\"dataframe\">\n",
       "  <thead>\n",
       "    <tr style=\"text-align: right;\">\n",
       "      <th></th>\n",
       "      <th>Store</th>\n",
       "      <th>DayOfWeek</th>\n",
       "      <th>Date</th>\n",
       "      <th>Sales</th>\n",
       "      <th>Customers</th>\n",
       "      <th>Open</th>\n",
       "      <th>Promo</th>\n",
       "      <th>StateHoliday</th>\n",
       "      <th>SchoolHoliday</th>\n",
       "      <th>StoreType</th>\n",
       "      <th>...</th>\n",
       "      <th>CompetitionOpenSinceYear</th>\n",
       "      <th>Promo2</th>\n",
       "      <th>Promo2SinceWeek</th>\n",
       "      <th>Promo2SinceYear</th>\n",
       "      <th>PromoInterval</th>\n",
       "      <th>SalesperCustomer</th>\n",
       "      <th>Sales_per_Customer</th>\n",
       "      <th>Month</th>\n",
       "      <th>Year</th>\n",
       "      <th>CompetitionDist_Cat</th>\n",
       "    </tr>\n",
       "  </thead>\n",
       "  <tbody>\n",
       "    <tr>\n",
       "      <th>0</th>\n",
       "      <td>1</td>\n",
       "      <td>5</td>\n",
       "      <td>2015-07-31</td>\n",
       "      <td>5263</td>\n",
       "      <td>555</td>\n",
       "      <td>1</td>\n",
       "      <td>1</td>\n",
       "      <td>0</td>\n",
       "      <td>1</td>\n",
       "      <td>c</td>\n",
       "      <td>...</td>\n",
       "      <td>2008.0</td>\n",
       "      <td>0</td>\n",
       "      <td>0.0</td>\n",
       "      <td>0.0</td>\n",
       "      <td>0</td>\n",
       "      <td>9.482883</td>\n",
       "      <td>9.482883</td>\n",
       "      <td>7</td>\n",
       "      <td>2015</td>\n",
       "      <td>(-55.84, 15188.0]</td>\n",
       "    </tr>\n",
       "    <tr>\n",
       "      <th>1</th>\n",
       "      <td>2</td>\n",
       "      <td>5</td>\n",
       "      <td>2015-07-31</td>\n",
       "      <td>6064</td>\n",
       "      <td>625</td>\n",
       "      <td>1</td>\n",
       "      <td>1</td>\n",
       "      <td>0</td>\n",
       "      <td>1</td>\n",
       "      <td>a</td>\n",
       "      <td>...</td>\n",
       "      <td>2007.0</td>\n",
       "      <td>1</td>\n",
       "      <td>13.0</td>\n",
       "      <td>2010.0</td>\n",
       "      <td>Jan,Apr,Jul,Oct</td>\n",
       "      <td>9.702400</td>\n",
       "      <td>9.702400</td>\n",
       "      <td>7</td>\n",
       "      <td>2015</td>\n",
       "      <td>(-55.84, 15188.0]</td>\n",
       "    </tr>\n",
       "    <tr>\n",
       "      <th>2</th>\n",
       "      <td>3</td>\n",
       "      <td>5</td>\n",
       "      <td>2015-07-31</td>\n",
       "      <td>8314</td>\n",
       "      <td>821</td>\n",
       "      <td>1</td>\n",
       "      <td>1</td>\n",
       "      <td>0</td>\n",
       "      <td>1</td>\n",
       "      <td>a</td>\n",
       "      <td>...</td>\n",
       "      <td>2006.0</td>\n",
       "      <td>1</td>\n",
       "      <td>14.0</td>\n",
       "      <td>2011.0</td>\n",
       "      <td>Jan,Apr,Jul,Oct</td>\n",
       "      <td>10.126675</td>\n",
       "      <td>10.126675</td>\n",
       "      <td>7</td>\n",
       "      <td>2015</td>\n",
       "      <td>(-55.84, 15188.0]</td>\n",
       "    </tr>\n",
       "    <tr>\n",
       "      <th>3</th>\n",
       "      <td>4</td>\n",
       "      <td>5</td>\n",
       "      <td>2015-07-31</td>\n",
       "      <td>13995</td>\n",
       "      <td>1498</td>\n",
       "      <td>1</td>\n",
       "      <td>1</td>\n",
       "      <td>0</td>\n",
       "      <td>1</td>\n",
       "      <td>c</td>\n",
       "      <td>...</td>\n",
       "      <td>2009.0</td>\n",
       "      <td>0</td>\n",
       "      <td>0.0</td>\n",
       "      <td>0.0</td>\n",
       "      <td>0</td>\n",
       "      <td>9.342457</td>\n",
       "      <td>9.342457</td>\n",
       "      <td>7</td>\n",
       "      <td>2015</td>\n",
       "      <td>(-55.84, 15188.0]</td>\n",
       "    </tr>\n",
       "    <tr>\n",
       "      <th>4</th>\n",
       "      <td>5</td>\n",
       "      <td>5</td>\n",
       "      <td>2015-07-31</td>\n",
       "      <td>4822</td>\n",
       "      <td>559</td>\n",
       "      <td>1</td>\n",
       "      <td>1</td>\n",
       "      <td>0</td>\n",
       "      <td>1</td>\n",
       "      <td>a</td>\n",
       "      <td>...</td>\n",
       "      <td>2015.0</td>\n",
       "      <td>0</td>\n",
       "      <td>0.0</td>\n",
       "      <td>0.0</td>\n",
       "      <td>0</td>\n",
       "      <td>8.626118</td>\n",
       "      <td>8.626118</td>\n",
       "      <td>7</td>\n",
       "      <td>2015</td>\n",
       "      <td>(15188.0, 30356.0]</td>\n",
       "    </tr>\n",
       "  </tbody>\n",
       "</table>\n",
       "<p>5 rows × 23 columns</p>\n",
       "</div>"
      ],
      "text/plain": [
       "   Store  DayOfWeek       Date  Sales  Customers  Open  Promo StateHoliday  \\\n",
       "0      1          5 2015-07-31   5263        555     1      1            0   \n",
       "1      2          5 2015-07-31   6064        625     1      1            0   \n",
       "2      3          5 2015-07-31   8314        821     1      1            0   \n",
       "3      4          5 2015-07-31  13995       1498     1      1            0   \n",
       "4      5          5 2015-07-31   4822        559     1      1            0   \n",
       "\n",
       "   SchoolHoliday StoreType  ... CompetitionOpenSinceYear  Promo2  \\\n",
       "0              1         c  ...                   2008.0       0   \n",
       "1              1         a  ...                   2007.0       1   \n",
       "2              1         a  ...                   2006.0       1   \n",
       "3              1         c  ...                   2009.0       0   \n",
       "4              1         a  ...                   2015.0       0   \n",
       "\n",
       "   Promo2SinceWeek  Promo2SinceYear    PromoInterval  SalesperCustomer  \\\n",
       "0              0.0              0.0                0          9.482883   \n",
       "1             13.0           2010.0  Jan,Apr,Jul,Oct          9.702400   \n",
       "2             14.0           2011.0  Jan,Apr,Jul,Oct         10.126675   \n",
       "3              0.0              0.0                0          9.342457   \n",
       "4              0.0              0.0                0          8.626118   \n",
       "\n",
       "   Sales_per_Customer Month  Year  CompetitionDist_Cat  \n",
       "0            9.482883     7  2015    (-55.84, 15188.0]  \n",
       "1            9.702400     7  2015    (-55.84, 15188.0]  \n",
       "2           10.126675     7  2015    (-55.84, 15188.0]  \n",
       "3            9.342457     7  2015    (-55.84, 15188.0]  \n",
       "4            8.626118     7  2015   (15188.0, 30356.0]  \n",
       "\n",
       "[5 rows x 23 columns]"
      ]
     },
     "execution_count": 80,
     "metadata": {},
     "output_type": "execute_result"
    }
   ],
   "source": [
    "train_store_data.head()"
   ]
  },
  {
   "cell_type": "code",
   "execution_count": 81,
   "id": "a99d074d",
   "metadata": {},
   "outputs": [
    {
     "data": {
      "text/plain": [
       "(CompetitionDist_Cat\n",
       " (-55.84, 15188.0]     6957.360876\n",
       " (15188.0, 30356.0]    7041.604692\n",
       " (30356.0, 45524.0]    6471.923562\n",
       " (45524.0, 60692.0]    5980.114445\n",
       " (60692.0, 75860.0]    7775.446449\n",
       " Name: Sales, dtype: float64,\n",
       " CompetitionDist_Cat\n",
       " (-55.84, 15188.0]     771.345223\n",
       " (15188.0, 30356.0]    691.574605\n",
       " (30356.0, 45524.0]    680.101854\n",
       " (45524.0, 60692.0]    643.988246\n",
       " (60692.0, 75860.0]    914.574972\n",
       " Name: Customers, dtype: float64)"
      ]
     },
     "execution_count": 81,
     "metadata": {},
     "output_type": "execute_result"
    }
   ],
   "source": [
    "train_store_data.groupby(by=\"CompetitionDist_Cat\").Sales.mean(),train_store_data.groupby(by=\"CompetitionDist_Cat\").Customers.mean()"
   ]
  },
  {
   "cell_type": "code",
   "execution_count": null,
   "id": "b745b9d4",
   "metadata": {},
   "outputs": [],
   "source": []
  },
  {
   "cell_type": "code",
   "execution_count": null,
   "id": "5e1d0dea",
   "metadata": {},
   "outputs": [],
   "source": []
  },
  {
   "cell_type": "code",
   "execution_count": null,
   "id": "0ba91235",
   "metadata": {},
   "outputs": [],
   "source": []
  },
  {
   "cell_type": "code",
   "execution_count": null,
   "id": "6c0eb323",
   "metadata": {},
   "outputs": [],
   "source": []
  },
  {
   "cell_type": "code",
   "execution_count": null,
   "id": "ebc8a2dd",
   "metadata": {},
   "outputs": [],
   "source": []
  },
  {
   "cell_type": "code",
   "execution_count": null,
   "id": "bd0aa833",
   "metadata": {},
   "outputs": [],
   "source": []
  },
  {
   "cell_type": "code",
   "execution_count": null,
   "id": "cc739842",
   "metadata": {},
   "outputs": [],
   "source": []
  },
  {
   "cell_type": "code",
   "execution_count": null,
   "id": "d5a39569",
   "metadata": {},
   "outputs": [],
   "source": []
  },
  {
   "cell_type": "code",
   "execution_count": null,
   "id": "a5fe6213",
   "metadata": {},
   "outputs": [],
   "source": []
  },
  {
   "cell_type": "code",
   "execution_count": null,
   "id": "3343a4c7",
   "metadata": {},
   "outputs": [],
   "source": []
  }
 ],
 "metadata": {
  "kernelspec": {
   "display_name": "Python 3 (ipykernel)",
   "language": "python",
   "name": "python3"
  },
  "language_info": {
   "codemirror_mode": {
    "name": "ipython",
    "version": 3
   },
   "file_extension": ".py",
   "mimetype": "text/x-python",
   "name": "python",
   "nbconvert_exporter": "python",
   "pygments_lexer": "ipython3",
   "version": "3.9.12"
  }
 },
 "nbformat": 4,
 "nbformat_minor": 5
}
