{
 "cells": [
  {
   "cell_type": "markdown",
   "id": "dd312ffa",
   "metadata": {},
   "source": [
    "# Ml-flow for sales prediction "
   ]
  },
  {
   "cell_type": "markdown",
   "id": "53c9b486",
   "metadata": {},
   "source": [
    "# 1. Import the packages"
   ]
  },
  {
   "cell_type": "code",
   "execution_count": 83,
   "id": "6fa75a60",
   "metadata": {},
   "outputs": [],
   "source": [
    "import numpy as np\n",
    "import pandas as pd\n",
    "import matplotlib.pyplot as plt\n",
    "%matplotlib inline\n",
    "import seaborn as sns\n",
    "sns.set_style(\"whitegrid\")\n",
    "import plotly \n",
    "import plotly.graph_objs as go\n",
    "import chart_studio.plotly as py\n",
    "#import plotly.plotly as py\n",
    "import sklearn\n",
    "from sklearn.model_selection import train_test_split\n",
    "import warnings\n",
    "warnings.filterwarnings(\"ignore\")"
   ]
  },
  {
   "cell_type": "code",
   "execution_count": 84,
   "id": "295d42a3",
   "metadata": {},
   "outputs": [],
   "source": [
    "import os\n",
    "import sys\n",
    "import warnings\n",
    "import pandas as pd\n",
    "import numpy as np\n",
    "from sklearn.metrics import mean_squared_error, mean_absolute_error, r2_score\n",
    "from sklearn.model_selection import train_test_split\n",
    "from sklearn.linear_model import ElasticNet, LogisticRegression\n",
    "from fast_ml.model_development import train_valid_test_split\n",
    "#import mlflow\n",
    "#import mlflow.sklearn\n",
    "import logging\n",
    "import matplotlib.pyplot as plt\n",
    "\n",
    "\n",
    "import dvc.api"
   ]
  },
  {
   "cell_type": "markdown",
   "id": "df4c5892",
   "metadata": {},
   "source": [
    "# 2. Data Preparation"
   ]
  },
  {
   "cell_type": "markdown",
   "id": "2ba4670e",
   "metadata": {},
   "source": [
    "# 2.1. Load Dataset"
   ]
  },
  {
   "cell_type": "code",
   "execution_count": 85,
   "id": "30322e39",
   "metadata": {},
   "outputs": [],
   "source": [
    "# Loan Dataset_store \n",
    " \n",
    "store_data = pd.read_csv(r\"C:\\Users\\Genet Shanko\\Pharmaceutical_Sales_Prediction\\DVC_Dataset\\Store.csv\")\n",
    "\n"
   ]
  },
  {
   "cell_type": "code",
   "execution_count": 86,
   "id": "204660a5",
   "metadata": {},
   "outputs": [
    {
     "data": {
      "text/html": [
       "<div>\n",
       "<style scoped>\n",
       "    .dataframe tbody tr th:only-of-type {\n",
       "        vertical-align: middle;\n",
       "    }\n",
       "\n",
       "    .dataframe tbody tr th {\n",
       "        vertical-align: top;\n",
       "    }\n",
       "\n",
       "    .dataframe thead th {\n",
       "        text-align: right;\n",
       "    }\n",
       "</style>\n",
       "<table border=\"1\" class=\"dataframe\">\n",
       "  <thead>\n",
       "    <tr style=\"text-align: right;\">\n",
       "      <th></th>\n",
       "      <th>Store</th>\n",
       "      <th>StoreType</th>\n",
       "      <th>Assortment</th>\n",
       "      <th>CompetitionDistance</th>\n",
       "      <th>CompetitionOpenSinceMonth</th>\n",
       "      <th>CompetitionOpenSinceYear</th>\n",
       "      <th>Promo2</th>\n",
       "      <th>Promo2SinceWeek</th>\n",
       "      <th>Promo2SinceYear</th>\n",
       "      <th>PromoInterval</th>\n",
       "    </tr>\n",
       "  </thead>\n",
       "  <tbody>\n",
       "    <tr>\n",
       "      <th>0</th>\n",
       "      <td>1</td>\n",
       "      <td>c</td>\n",
       "      <td>a</td>\n",
       "      <td>1270.0</td>\n",
       "      <td>9.0</td>\n",
       "      <td>2008.0</td>\n",
       "      <td>0</td>\n",
       "      <td>NaN</td>\n",
       "      <td>NaN</td>\n",
       "      <td>NaN</td>\n",
       "    </tr>\n",
       "    <tr>\n",
       "      <th>1</th>\n",
       "      <td>2</td>\n",
       "      <td>a</td>\n",
       "      <td>a</td>\n",
       "      <td>570.0</td>\n",
       "      <td>11.0</td>\n",
       "      <td>2007.0</td>\n",
       "      <td>1</td>\n",
       "      <td>13.0</td>\n",
       "      <td>2010.0</td>\n",
       "      <td>Jan,Apr,Jul,Oct</td>\n",
       "    </tr>\n",
       "    <tr>\n",
       "      <th>2</th>\n",
       "      <td>3</td>\n",
       "      <td>a</td>\n",
       "      <td>a</td>\n",
       "      <td>14130.0</td>\n",
       "      <td>12.0</td>\n",
       "      <td>2006.0</td>\n",
       "      <td>1</td>\n",
       "      <td>14.0</td>\n",
       "      <td>2011.0</td>\n",
       "      <td>Jan,Apr,Jul,Oct</td>\n",
       "    </tr>\n",
       "    <tr>\n",
       "      <th>3</th>\n",
       "      <td>4</td>\n",
       "      <td>c</td>\n",
       "      <td>c</td>\n",
       "      <td>620.0</td>\n",
       "      <td>9.0</td>\n",
       "      <td>2009.0</td>\n",
       "      <td>0</td>\n",
       "      <td>NaN</td>\n",
       "      <td>NaN</td>\n",
       "      <td>NaN</td>\n",
       "    </tr>\n",
       "    <tr>\n",
       "      <th>4</th>\n",
       "      <td>5</td>\n",
       "      <td>a</td>\n",
       "      <td>a</td>\n",
       "      <td>29910.0</td>\n",
       "      <td>4.0</td>\n",
       "      <td>2015.0</td>\n",
       "      <td>0</td>\n",
       "      <td>NaN</td>\n",
       "      <td>NaN</td>\n",
       "      <td>NaN</td>\n",
       "    </tr>\n",
       "  </tbody>\n",
       "</table>\n",
       "</div>"
      ],
      "text/plain": [
       "   Store StoreType Assortment  CompetitionDistance  CompetitionOpenSinceMonth  \\\n",
       "0      1         c          a               1270.0                        9.0   \n",
       "1      2         a          a                570.0                       11.0   \n",
       "2      3         a          a              14130.0                       12.0   \n",
       "3      4         c          c                620.0                        9.0   \n",
       "4      5         a          a              29910.0                        4.0   \n",
       "\n",
       "   CompetitionOpenSinceYear  Promo2  Promo2SinceWeek  Promo2SinceYear  \\\n",
       "0                    2008.0       0              NaN              NaN   \n",
       "1                    2007.0       1             13.0           2010.0   \n",
       "2                    2006.0       1             14.0           2011.0   \n",
       "3                    2009.0       0              NaN              NaN   \n",
       "4                    2015.0       0              NaN              NaN   \n",
       "\n",
       "     PromoInterval  \n",
       "0              NaN  \n",
       "1  Jan,Apr,Jul,Oct  \n",
       "2  Jan,Apr,Jul,Oct  \n",
       "3              NaN  \n",
       "4              NaN  "
      ]
     },
     "execution_count": 86,
     "metadata": {},
     "output_type": "execute_result"
    }
   ],
   "source": [
    "store_data.head()"
   ]
  },
  {
   "cell_type": "code",
   "execution_count": 87,
   "id": "8c7496d3",
   "metadata": {},
   "outputs": [],
   "source": [
    "def str_to_date(date):\n",
    "    return datetime.strptime(date, '%Y-%m-%d').date()"
   ]
  },
  {
   "cell_type": "code",
   "execution_count": 88,
   "id": "a27b2ce7",
   "metadata": {},
   "outputs": [],
   "source": [
    "train_data= pd.read_csv(r\"C:\\Users\\Genet Shanko\\Pharmaceutical_Sales_Prediction\\DVC_Dataset\\train.csv\",parse_dates = True,index_col = 'Date')"
   ]
  },
  {
   "cell_type": "code",
   "execution_count": 89,
   "id": "c47d614e",
   "metadata": {},
   "outputs": [
    {
     "data": {
      "text/html": [
       "<div>\n",
       "<style scoped>\n",
       "    .dataframe tbody tr th:only-of-type {\n",
       "        vertical-align: middle;\n",
       "    }\n",
       "\n",
       "    .dataframe tbody tr th {\n",
       "        vertical-align: top;\n",
       "    }\n",
       "\n",
       "    .dataframe thead th {\n",
       "        text-align: right;\n",
       "    }\n",
       "</style>\n",
       "<table border=\"1\" class=\"dataframe\">\n",
       "  <thead>\n",
       "    <tr style=\"text-align: right;\">\n",
       "      <th></th>\n",
       "      <th>Store</th>\n",
       "      <th>DayOfWeek</th>\n",
       "      <th>Sales</th>\n",
       "      <th>Customers</th>\n",
       "      <th>Open</th>\n",
       "      <th>Promo</th>\n",
       "      <th>StateHoliday</th>\n",
       "      <th>SchoolHoliday</th>\n",
       "    </tr>\n",
       "    <tr>\n",
       "      <th>Date</th>\n",
       "      <th></th>\n",
       "      <th></th>\n",
       "      <th></th>\n",
       "      <th></th>\n",
       "      <th></th>\n",
       "      <th></th>\n",
       "      <th></th>\n",
       "      <th></th>\n",
       "    </tr>\n",
       "  </thead>\n",
       "  <tbody>\n",
       "    <tr>\n",
       "      <th>2015-07-31</th>\n",
       "      <td>1</td>\n",
       "      <td>5</td>\n",
       "      <td>5263</td>\n",
       "      <td>555</td>\n",
       "      <td>1</td>\n",
       "      <td>1</td>\n",
       "      <td>0</td>\n",
       "      <td>1</td>\n",
       "    </tr>\n",
       "    <tr>\n",
       "      <th>2015-07-31</th>\n",
       "      <td>2</td>\n",
       "      <td>5</td>\n",
       "      <td>6064</td>\n",
       "      <td>625</td>\n",
       "      <td>1</td>\n",
       "      <td>1</td>\n",
       "      <td>0</td>\n",
       "      <td>1</td>\n",
       "    </tr>\n",
       "    <tr>\n",
       "      <th>2015-07-31</th>\n",
       "      <td>3</td>\n",
       "      <td>5</td>\n",
       "      <td>8314</td>\n",
       "      <td>821</td>\n",
       "      <td>1</td>\n",
       "      <td>1</td>\n",
       "      <td>0</td>\n",
       "      <td>1</td>\n",
       "    </tr>\n",
       "    <tr>\n",
       "      <th>2015-07-31</th>\n",
       "      <td>4</td>\n",
       "      <td>5</td>\n",
       "      <td>13995</td>\n",
       "      <td>1498</td>\n",
       "      <td>1</td>\n",
       "      <td>1</td>\n",
       "      <td>0</td>\n",
       "      <td>1</td>\n",
       "    </tr>\n",
       "    <tr>\n",
       "      <th>2015-07-31</th>\n",
       "      <td>5</td>\n",
       "      <td>5</td>\n",
       "      <td>4822</td>\n",
       "      <td>559</td>\n",
       "      <td>1</td>\n",
       "      <td>1</td>\n",
       "      <td>0</td>\n",
       "      <td>1</td>\n",
       "    </tr>\n",
       "  </tbody>\n",
       "</table>\n",
       "</div>"
      ],
      "text/plain": [
       "            Store  DayOfWeek  Sales  Customers  Open  Promo StateHoliday  \\\n",
       "Date                                                                       \n",
       "2015-07-31      1          5   5263        555     1      1            0   \n",
       "2015-07-31      2          5   6064        625     1      1            0   \n",
       "2015-07-31      3          5   8314        821     1      1            0   \n",
       "2015-07-31      4          5  13995       1498     1      1            0   \n",
       "2015-07-31      5          5   4822        559     1      1            0   \n",
       "\n",
       "            SchoolHoliday  \n",
       "Date                       \n",
       "2015-07-31              1  \n",
       "2015-07-31              1  \n",
       "2015-07-31              1  \n",
       "2015-07-31              1  \n",
       "2015-07-31              1  "
      ]
     },
     "execution_count": 89,
     "metadata": {},
     "output_type": "execute_result"
    }
   ],
   "source": [
    "train_data.head()"
   ]
  },
  {
   "cell_type": "code",
   "execution_count": 90,
   "id": "057c7f94",
   "metadata": {},
   "outputs": [
    {
     "name": "stdout",
     "output_type": "stream",
     "text": [
      "# of observations & # of features (1017209, 8)\n"
     ]
    },
    {
     "data": {
      "text/html": [
       "<div>\n",
       "<style scoped>\n",
       "    .dataframe tbody tr th:only-of-type {\n",
       "        vertical-align: middle;\n",
       "    }\n",
       "\n",
       "    .dataframe tbody tr th {\n",
       "        vertical-align: top;\n",
       "    }\n",
       "\n",
       "    .dataframe thead th {\n",
       "        text-align: right;\n",
       "    }\n",
       "</style>\n",
       "<table border=\"1\" class=\"dataframe\">\n",
       "  <thead>\n",
       "    <tr style=\"text-align: right;\">\n",
       "      <th></th>\n",
       "      <th>Store</th>\n",
       "      <th>DayOfWeek</th>\n",
       "      <th>Sales</th>\n",
       "      <th>Customers</th>\n",
       "      <th>Open</th>\n",
       "      <th>Promo</th>\n",
       "      <th>StateHoliday</th>\n",
       "      <th>SchoolHoliday</th>\n",
       "    </tr>\n",
       "    <tr>\n",
       "      <th>Date</th>\n",
       "      <th></th>\n",
       "      <th></th>\n",
       "      <th></th>\n",
       "      <th></th>\n",
       "      <th></th>\n",
       "      <th></th>\n",
       "      <th></th>\n",
       "      <th></th>\n",
       "    </tr>\n",
       "  </thead>\n",
       "  <tbody>\n",
       "    <tr>\n",
       "      <th>2015-07-31</th>\n",
       "      <td>1</td>\n",
       "      <td>5</td>\n",
       "      <td>5263</td>\n",
       "      <td>555</td>\n",
       "      <td>1</td>\n",
       "      <td>1</td>\n",
       "      <td>0</td>\n",
       "      <td>1</td>\n",
       "    </tr>\n",
       "    <tr>\n",
       "      <th>2015-07-31</th>\n",
       "      <td>2</td>\n",
       "      <td>5</td>\n",
       "      <td>6064</td>\n",
       "      <td>625</td>\n",
       "      <td>1</td>\n",
       "      <td>1</td>\n",
       "      <td>0</td>\n",
       "      <td>1</td>\n",
       "    </tr>\n",
       "    <tr>\n",
       "      <th>2015-07-31</th>\n",
       "      <td>3</td>\n",
       "      <td>5</td>\n",
       "      <td>8314</td>\n",
       "      <td>821</td>\n",
       "      <td>1</td>\n",
       "      <td>1</td>\n",
       "      <td>0</td>\n",
       "      <td>1</td>\n",
       "    </tr>\n",
       "    <tr>\n",
       "      <th>2015-07-31</th>\n",
       "      <td>4</td>\n",
       "      <td>5</td>\n",
       "      <td>13995</td>\n",
       "      <td>1498</td>\n",
       "      <td>1</td>\n",
       "      <td>1</td>\n",
       "      <td>0</td>\n",
       "      <td>1</td>\n",
       "    </tr>\n",
       "    <tr>\n",
       "      <th>2015-07-31</th>\n",
       "      <td>5</td>\n",
       "      <td>5</td>\n",
       "      <td>4822</td>\n",
       "      <td>559</td>\n",
       "      <td>1</td>\n",
       "      <td>1</td>\n",
       "      <td>0</td>\n",
       "      <td>1</td>\n",
       "    </tr>\n",
       "  </tbody>\n",
       "</table>\n",
       "</div>"
      ],
      "text/plain": [
       "            Store  DayOfWeek  Sales  Customers  Open  Promo StateHoliday  \\\n",
       "Date                                                                       \n",
       "2015-07-31      1          5   5263        555     1      1            0   \n",
       "2015-07-31      2          5   6064        625     1      1            0   \n",
       "2015-07-31      3          5   8314        821     1      1            0   \n",
       "2015-07-31      4          5  13995       1498     1      1            0   \n",
       "2015-07-31      5          5   4822        559     1      1            0   \n",
       "\n",
       "            SchoolHoliday  \n",
       "Date                       \n",
       "2015-07-31              1  \n",
       "2015-07-31              1  \n",
       "2015-07-31              1  \n",
       "2015-07-31              1  \n",
       "2015-07-31              1  "
      ]
     },
     "execution_count": 90,
     "metadata": {},
     "output_type": "execute_result"
    }
   ],
   "source": [
    "# have a glance on the datasets\n",
    "print(\"# of observations & # of features\", train_data.shape)\n",
    "train_data.head()"
   ]
  },
  {
   "cell_type": "code",
   "execution_count": 91,
   "id": "1acf9e2c",
   "metadata": {},
   "outputs": [
    {
     "name": "stdout",
     "output_type": "stream",
     "text": [
      "# of observations & # of features (1115, 10)\n"
     ]
    },
    {
     "data": {
      "text/html": [
       "<div>\n",
       "<style scoped>\n",
       "    .dataframe tbody tr th:only-of-type {\n",
       "        vertical-align: middle;\n",
       "    }\n",
       "\n",
       "    .dataframe tbody tr th {\n",
       "        vertical-align: top;\n",
       "    }\n",
       "\n",
       "    .dataframe thead th {\n",
       "        text-align: right;\n",
       "    }\n",
       "</style>\n",
       "<table border=\"1\" class=\"dataframe\">\n",
       "  <thead>\n",
       "    <tr style=\"text-align: right;\">\n",
       "      <th></th>\n",
       "      <th>Store</th>\n",
       "      <th>StoreType</th>\n",
       "      <th>Assortment</th>\n",
       "      <th>CompetitionDistance</th>\n",
       "      <th>CompetitionOpenSinceMonth</th>\n",
       "      <th>CompetitionOpenSinceYear</th>\n",
       "      <th>Promo2</th>\n",
       "      <th>Promo2SinceWeek</th>\n",
       "      <th>Promo2SinceYear</th>\n",
       "      <th>PromoInterval</th>\n",
       "    </tr>\n",
       "  </thead>\n",
       "  <tbody>\n",
       "    <tr>\n",
       "      <th>0</th>\n",
       "      <td>1</td>\n",
       "      <td>c</td>\n",
       "      <td>a</td>\n",
       "      <td>1270.0</td>\n",
       "      <td>9.0</td>\n",
       "      <td>2008.0</td>\n",
       "      <td>0</td>\n",
       "      <td>NaN</td>\n",
       "      <td>NaN</td>\n",
       "      <td>NaN</td>\n",
       "    </tr>\n",
       "    <tr>\n",
       "      <th>1</th>\n",
       "      <td>2</td>\n",
       "      <td>a</td>\n",
       "      <td>a</td>\n",
       "      <td>570.0</td>\n",
       "      <td>11.0</td>\n",
       "      <td>2007.0</td>\n",
       "      <td>1</td>\n",
       "      <td>13.0</td>\n",
       "      <td>2010.0</td>\n",
       "      <td>Jan,Apr,Jul,Oct</td>\n",
       "    </tr>\n",
       "    <tr>\n",
       "      <th>2</th>\n",
       "      <td>3</td>\n",
       "      <td>a</td>\n",
       "      <td>a</td>\n",
       "      <td>14130.0</td>\n",
       "      <td>12.0</td>\n",
       "      <td>2006.0</td>\n",
       "      <td>1</td>\n",
       "      <td>14.0</td>\n",
       "      <td>2011.0</td>\n",
       "      <td>Jan,Apr,Jul,Oct</td>\n",
       "    </tr>\n",
       "    <tr>\n",
       "      <th>3</th>\n",
       "      <td>4</td>\n",
       "      <td>c</td>\n",
       "      <td>c</td>\n",
       "      <td>620.0</td>\n",
       "      <td>9.0</td>\n",
       "      <td>2009.0</td>\n",
       "      <td>0</td>\n",
       "      <td>NaN</td>\n",
       "      <td>NaN</td>\n",
       "      <td>NaN</td>\n",
       "    </tr>\n",
       "    <tr>\n",
       "      <th>4</th>\n",
       "      <td>5</td>\n",
       "      <td>a</td>\n",
       "      <td>a</td>\n",
       "      <td>29910.0</td>\n",
       "      <td>4.0</td>\n",
       "      <td>2015.0</td>\n",
       "      <td>0</td>\n",
       "      <td>NaN</td>\n",
       "      <td>NaN</td>\n",
       "      <td>NaN</td>\n",
       "    </tr>\n",
       "  </tbody>\n",
       "</table>\n",
       "</div>"
      ],
      "text/plain": [
       "   Store StoreType Assortment  CompetitionDistance  CompetitionOpenSinceMonth  \\\n",
       "0      1         c          a               1270.0                        9.0   \n",
       "1      2         a          a                570.0                       11.0   \n",
       "2      3         a          a              14130.0                       12.0   \n",
       "3      4         c          c                620.0                        9.0   \n",
       "4      5         a          a              29910.0                        4.0   \n",
       "\n",
       "   CompetitionOpenSinceYear  Promo2  Promo2SinceWeek  Promo2SinceYear  \\\n",
       "0                    2008.0       0              NaN              NaN   \n",
       "1                    2007.0       1             13.0           2010.0   \n",
       "2                    2006.0       1             14.0           2011.0   \n",
       "3                    2009.0       0              NaN              NaN   \n",
       "4                    2015.0       0              NaN              NaN   \n",
       "\n",
       "     PromoInterval  \n",
       "0              NaN  \n",
       "1  Jan,Apr,Jul,Oct  \n",
       "2  Jan,Apr,Jul,Oct  \n",
       "3              NaN  \n",
       "4              NaN  "
      ]
     },
     "execution_count": 91,
     "metadata": {},
     "output_type": "execute_result"
    }
   ],
   "source": [
    "print(\"# of observations & # of features\", store_data.shape)\n",
    "store_data.head()"
   ]
  },
  {
   "cell_type": "markdown",
   "id": "cceee25f",
   "metadata": {},
   "source": [
    "# 2.2. Working on Missing Values"
   ]
  },
  {
   "cell_type": "code",
   "execution_count": 92,
   "id": "e85c40db",
   "metadata": {},
   "outputs": [
    {
     "name": "stdout",
     "output_type": "stream",
     "text": [
      "train:\n",
      "\n",
      " Store            0\n",
      "DayOfWeek        0\n",
      "Sales            0\n",
      "Customers        0\n",
      "Open             0\n",
      "Promo            0\n",
      "StateHoliday     0\n",
      "SchoolHoliday    0\n",
      "dtype: int64 \n",
      "\n",
      "store:\n",
      "\n",
      " Store                          0\n",
      "StoreType                      0\n",
      "Assortment                     0\n",
      "CompetitionDistance            3\n",
      "CompetitionOpenSinceMonth    354\n",
      "CompetitionOpenSinceYear     354\n",
      "Promo2                         0\n",
      "Promo2SinceWeek              544\n",
      "Promo2SinceYear              544\n",
      "PromoInterval                544\n",
      "dtype: int64\n"
     ]
    }
   ],
   "source": [
    "print(\"train:\\n\\n\", train_data.isnull().sum(),  \n",
    "     \"\\n\\nstore:\\n\\n\", store_data.isnull().sum())"
   ]
  },
  {
   "cell_type": "markdown",
   "id": "3d08cd96",
   "metadata": {},
   "source": [
    "### 2.3. Remove features with high percentages of missing values"
   ]
  },
  {
   "cell_type": "code",
   "execution_count": 33,
   "id": "85ae6c70",
   "metadata": {},
   "outputs": [],
   "source": [
    "# remove features\n",
    "store_data_up = store_data.drop(['CompetitionOpenSinceMonth', 'CompetitionOpenSinceYear','Promo2SinceWeek',\n",
    "                     'Promo2SinceYear', 'PromoInterval'], axis=1)"
   ]
  },
  {
   "cell_type": "markdown",
   "id": "5d87c111",
   "metadata": {},
   "source": [
    "### 2.4. Replace missing values in features with low percentages of missing values"
   ]
  },
  {
   "cell_type": "code",
   "execution_count": 34,
   "id": "ca81004a",
   "metadata": {},
   "outputs": [
    {
     "data": {
      "text/plain": [
       "Text(0.5, 1.0, 'Distributin of Store Competition Distance')"
      ]
     },
     "execution_count": 34,
     "metadata": {},
     "output_type": "execute_result"
    },
    {
     "data": {
      "image/png": "[encoded data removed]",
      "text/plain": [
       "<Figure size 432x288 with 1 Axes>"
      ]
     },
     "metadata": {},
     "output_type": "display_data"
    }
   ],
   "source": [
    "# CompetitionDistance is distance in meters to the nearest competitor store\n",
    "# let's first have a look at its distribution\n",
    "sns.distplot(store_data_up.CompetitionDistance.dropna())\n",
    "plt.title(\"Distributin of Store Competition Distance\")"
   ]
  },
  {
   "cell_type": "markdown",
   "id": "b6509efc",
   "metadata": {},
   "source": [
    "##### The distribution is right skewed, so we'll replace missing values with the median."
   ]
  },
  {
   "cell_type": "code",
   "execution_count": 35,
   "id": "f8f3f3c0",
   "metadata": {},
   "outputs": [],
   "source": [
    "# replace missing values in CompetitionDistance with median for the store dataset\n",
    "store_data_up.CompetitionDistance.fillna(store_data_up.CompetitionDistance.median(), inplace=True)"
   ]
  },
  {
   "cell_type": "markdown",
   "id": "264d0ddb",
   "metadata": {},
   "source": [
    "## 2.4.Date Extraction"
   ]
  },
  {
   "cell_type": "code",
   "execution_count": 36,
   "id": "6eb22bd8",
   "metadata": {},
   "outputs": [],
   "source": [
    "# extract year, month, day and week of year from \"Date\"\n",
    "train_data['Year'] = train_data.index.year\n",
    "train_data['Month'] = train_data.index.month\n",
    "train_data['Day'] = train_data.index.day\n",
    "train_data['WeekOfYear'] = train_data.index.weekofyear\n",
    "train_data = train_data.reset_index()"
   ]
  },
  {
   "cell_type": "markdown",
   "id": "043ec8a9",
   "metadata": {},
   "source": [
    "## 2.5.Joining Tables"
   ]
  },
  {
   "cell_type": "code",
   "execution_count": 37,
   "id": "9692d07d",
   "metadata": {},
   "outputs": [
    {
     "data": {
      "text/html": [
       "<div>\n",
       "<style scoped>\n",
       "    .dataframe tbody tr th:only-of-type {\n",
       "        vertical-align: middle;\n",
       "    }\n",
       "\n",
       "    .dataframe tbody tr th {\n",
       "        vertical-align: top;\n",
       "    }\n",
       "\n",
       "    .dataframe thead th {\n",
       "        text-align: right;\n",
       "    }\n",
       "</style>\n",
       "<table border=\"1\" class=\"dataframe\">\n",
       "  <thead>\n",
       "    <tr style=\"text-align: right;\">\n",
       "      <th></th>\n",
       "      <th>Date</th>\n",
       "      <th>Store</th>\n",
       "      <th>DayOfWeek</th>\n",
       "      <th>Sales</th>\n",
       "      <th>Customers</th>\n",
       "      <th>Open</th>\n",
       "      <th>Promo</th>\n",
       "      <th>StateHoliday</th>\n",
       "      <th>SchoolHoliday</th>\n",
       "      <th>Year</th>\n",
       "      <th>Month</th>\n",
       "      <th>Day</th>\n",
       "      <th>WeekOfYear</th>\n",
       "      <th>StoreType</th>\n",
       "      <th>Assortment</th>\n",
       "      <th>CompetitionDistance</th>\n",
       "      <th>Promo2</th>\n",
       "    </tr>\n",
       "  </thead>\n",
       "  <tbody>\n",
       "    <tr>\n",
       "      <th>0</th>\n",
       "      <td>2015-07-31</td>\n",
       "      <td>1</td>\n",
       "      <td>5</td>\n",
       "      <td>5263</td>\n",
       "      <td>555</td>\n",
       "      <td>1</td>\n",
       "      <td>1</td>\n",
       "      <td>0</td>\n",
       "      <td>1</td>\n",
       "      <td>2015</td>\n",
       "      <td>7</td>\n",
       "      <td>31</td>\n",
       "      <td>31</td>\n",
       "      <td>c</td>\n",
       "      <td>a</td>\n",
       "      <td>1270.0</td>\n",
       "      <td>0</td>\n",
       "    </tr>\n",
       "    <tr>\n",
       "      <th>1</th>\n",
       "      <td>2015-07-31</td>\n",
       "      <td>2</td>\n",
       "      <td>5</td>\n",
       "      <td>6064</td>\n",
       "      <td>625</td>\n",
       "      <td>1</td>\n",
       "      <td>1</td>\n",
       "      <td>0</td>\n",
       "      <td>1</td>\n",
       "      <td>2015</td>\n",
       "      <td>7</td>\n",
       "      <td>31</td>\n",
       "      <td>31</td>\n",
       "      <td>a</td>\n",
       "      <td>a</td>\n",
       "      <td>570.0</td>\n",
       "      <td>1</td>\n",
       "    </tr>\n",
       "    <tr>\n",
       "      <th>2</th>\n",
       "      <td>2015-07-31</td>\n",
       "      <td>3</td>\n",
       "      <td>5</td>\n",
       "      <td>8314</td>\n",
       "      <td>821</td>\n",
       "      <td>1</td>\n",
       "      <td>1</td>\n",
       "      <td>0</td>\n",
       "      <td>1</td>\n",
       "      <td>2015</td>\n",
       "      <td>7</td>\n",
       "      <td>31</td>\n",
       "      <td>31</td>\n",
       "      <td>a</td>\n",
       "      <td>a</td>\n",
       "      <td>14130.0</td>\n",
       "      <td>1</td>\n",
       "    </tr>\n",
       "    <tr>\n",
       "      <th>3</th>\n",
       "      <td>2015-07-31</td>\n",
       "      <td>4</td>\n",
       "      <td>5</td>\n",
       "      <td>13995</td>\n",
       "      <td>1498</td>\n",
       "      <td>1</td>\n",
       "      <td>1</td>\n",
       "      <td>0</td>\n",
       "      <td>1</td>\n",
       "      <td>2015</td>\n",
       "      <td>7</td>\n",
       "      <td>31</td>\n",
       "      <td>31</td>\n",
       "      <td>c</td>\n",
       "      <td>c</td>\n",
       "      <td>620.0</td>\n",
       "      <td>0</td>\n",
       "    </tr>\n",
       "    <tr>\n",
       "      <th>4</th>\n",
       "      <td>2015-07-31</td>\n",
       "      <td>5</td>\n",
       "      <td>5</td>\n",
       "      <td>4822</td>\n",
       "      <td>559</td>\n",
       "      <td>1</td>\n",
       "      <td>1</td>\n",
       "      <td>0</td>\n",
       "      <td>1</td>\n",
       "      <td>2015</td>\n",
       "      <td>7</td>\n",
       "      <td>31</td>\n",
       "      <td>31</td>\n",
       "      <td>a</td>\n",
       "      <td>a</td>\n",
       "      <td>29910.0</td>\n",
       "      <td>0</td>\n",
       "    </tr>\n",
       "  </tbody>\n",
       "</table>\n",
       "</div>"
      ],
      "text/plain": [
       "        Date  Store  DayOfWeek  Sales  Customers  Open  Promo StateHoliday  \\\n",
       "0 2015-07-31      1          5   5263        555     1      1            0   \n",
       "1 2015-07-31      2          5   6064        625     1      1            0   \n",
       "2 2015-07-31      3          5   8314        821     1      1            0   \n",
       "3 2015-07-31      4          5  13995       1498     1      1            0   \n",
       "4 2015-07-31      5          5   4822        559     1      1            0   \n",
       "\n",
       "   SchoolHoliday  Year  Month  Day  WeekOfYear StoreType Assortment  \\\n",
       "0              1  2015      7   31          31         c          a   \n",
       "1              1  2015      7   31          31         a          a   \n",
       "2              1  2015      7   31          31         a          a   \n",
       "3              1  2015      7   31          31         c          c   \n",
       "4              1  2015      7   31          31         a          a   \n",
       "\n",
       "   CompetitionDistance  Promo2  \n",
       "0               1270.0       0  \n",
       "1                570.0       1  \n",
       "2              14130.0       1  \n",
       "3                620.0       0  \n",
       "4              29910.0       0  "
      ]
     },
     "execution_count": 37,
     "metadata": {},
     "output_type": "execute_result"
    }
   ],
   "source": [
    "df = pd.merge(train_data, store_data_up, how='left', on='Store')\n",
    "df.head()"
   ]
  },
  {
   "cell_type": "code",
   "execution_count": 38,
   "id": "dc729f5b",
   "metadata": {},
   "outputs": [
    {
     "data": {
      "text/plain": [
       "1017209"
      ]
     },
     "execution_count": 38,
     "metadata": {},
     "output_type": "execute_result"
    }
   ],
   "source": [
    "len(df)"
   ]
  },
  {
   "cell_type": "markdown",
   "id": "ef61536f",
   "metadata": {},
   "source": [
    "## 2.6. Drop Subsets Of Data Where Might Cause Bias"
   ]
  },
  {
   "cell_type": "code",
   "execution_count": 39,
   "id": "23d81380",
   "metadata": {},
   "outputs": [],
   "source": [
    "# where stores are closed, they won't generate sales, so we will remove this part of the dataset\n",
    "df = df[df.Open != 0]"
   ]
  },
  {
   "cell_type": "code",
   "execution_count": 40,
   "id": "467c71eb",
   "metadata": {},
   "outputs": [],
   "source": [
    "# Open isn't a variable anymore, so we'll drop it\n",
    "df = df.drop('Open', axis=1)"
   ]
  },
  {
   "cell_type": "code",
   "execution_count": 41,
   "id": "ccc225cc",
   "metadata": {},
   "outputs": [
    {
     "data": {
      "text/plain": [
       "31460"
      ]
     },
     "execution_count": 41,
     "metadata": {},
     "output_type": "execute_result"
    }
   ],
   "source": [
    "# see if there's any opened store with zero sales\n",
    "df[df.Sales == 0]['Store'].sum()"
   ]
  },
  {
   "cell_type": "code",
   "execution_count": 42,
   "id": "21057ae8",
   "metadata": {},
   "outputs": [
    {
     "data": {
      "text/plain": [
       "0.0"
      ]
     },
     "execution_count": 42,
     "metadata": {},
     "output_type": "execute_result"
    }
   ],
   "source": [
    "# see the percentage of open stored with zero sales\n",
    "df[df.Sales == 0]['Sales'].sum()/df.Sales.sum()"
   ]
  },
  {
   "cell_type": "code",
   "execution_count": 43,
   "id": "2ddd240e",
   "metadata": {},
   "outputs": [],
   "source": [
    "# remove this part of data to avoid bias\n",
    "df = df[df.Sales != 0]"
   ]
  },
  {
   "cell_type": "markdown",
   "id": "7c63d67b",
   "metadata": {},
   "source": [
    "## 2.7. Feature Engineering"
   ]
  },
  {
   "cell_type": "code",
   "execution_count": 44,
   "id": "9df6d85f",
   "metadata": {},
   "outputs": [
    {
     "name": "stdout",
     "output_type": "stream",
     "text": [
      "<class 'pandas.core.frame.DataFrame'>\n",
      "Int64Index: 844338 entries, 0 to 1017190\n",
      "Data columns (total 16 columns):\n",
      " #   Column               Non-Null Count   Dtype         \n",
      "---  ------               --------------   -----         \n",
      " 0   Date                 844338 non-null  datetime64[ns]\n",
      " 1   Store                844338 non-null  int64         \n",
      " 2   DayOfWeek            844338 non-null  int64         \n",
      " 3   Sales                844338 non-null  int64         \n",
      " 4   Customers            844338 non-null  int64         \n",
      " 5   Promo                844338 non-null  int64         \n",
      " 6   StateHoliday         844338 non-null  object        \n",
      " 7   SchoolHoliday        844338 non-null  int64         \n",
      " 8   Year                 844338 non-null  int64         \n",
      " 9   Month                844338 non-null  int64         \n",
      " 10  Day                  844338 non-null  int64         \n",
      " 11  WeekOfYear           844338 non-null  int64         \n",
      " 12  StoreType            844338 non-null  object        \n",
      " 13  Assortment           844338 non-null  object        \n",
      " 14  CompetitionDistance  844338 non-null  float64       \n",
      " 15  Promo2               844338 non-null  int64         \n",
      "dtypes: datetime64[ns](1), float64(1), int64(11), object(3)\n",
      "memory usage: 109.5+ MB\n"
     ]
    }
   ],
   "source": [
    "# see what variable types we have\n",
    "df.info()"
   ]
  },
  {
   "cell_type": "code",
   "execution_count": 45,
   "id": "98a0643e",
   "metadata": {},
   "outputs": [
    {
     "data": {
      "text/plain": [
       "({0, '0', 'a', 'b', 'c'}, {'a', 'b', 'c', 'd'}, {'a', 'b', 'c'})"
      ]
     },
     "execution_count": 45,
     "metadata": {},
     "output_type": "execute_result"
    }
   ],
   "source": [
    "# see what's in nominal varibles \n",
    "set(df.StateHoliday), set(df.StoreType), set(df.Assortment)"
   ]
  },
  {
   "cell_type": "code",
   "execution_count": 46,
   "id": "1d8bb3cb",
   "metadata": {},
   "outputs": [],
   "source": [
    "# StateHoliday indicates a state holiday - a = public holiday, b = Easter holiday, c = Christmas, 0 = None\n",
    "# convert number 0 to string 0\n",
    "df.loc[df.StateHoliday == 0,'StateHoliday'] = df.loc[df.StateHoliday == 0,'StateHoliday'].astype(str)"
   ]
  },
  {
   "cell_type": "code",
   "execution_count": 47,
   "id": "1ff47879",
   "metadata": {},
   "outputs": [],
   "source": [
    "# make a copy in case I mess up anything \n",
    "df1 = df.copy()"
   ]
  },
  {
   "cell_type": "markdown",
   "id": "ca0f77ec",
   "metadata": {},
   "source": [
    "#### 2.7.1 Create new variable \"AvgeSales\""
   ]
  },
  {
   "cell_type": "markdown",
   "id": "8782a118",
   "metadata": {},
   "source": [
    "##### create a variable that calculates monthly average sales for each store"
   ]
  },
  {
   "cell_type": "code",
   "execution_count": 48,
   "id": "2b1882c5",
   "metadata": {},
   "outputs": [],
   "source": [
    "# calculate weekly average sales\n",
    "sales = df1[['Year','Month','Store','Sales']].groupby(['Year','Month','Store']).mean()\n",
    "sales = sales.rename(columns={'Sales':'AvgSales'})\n",
    "sales = sales.reset_index()"
   ]
  },
  {
   "cell_type": "code",
   "execution_count": 49,
   "id": "f91c128e",
   "metadata": {},
   "outputs": [],
   "source": [
    "df1['sales_key']=df1['Year'].map(str) + df1['Month'].map(str) + df1['Store'].map(str)\n",
    "sales['sales_key']=sales['Year'].map(str) + sales['Month'].map(str) + sales['Store'].map(str)"
   ]
  },
  {
   "cell_type": "code",
   "execution_count": 50,
   "id": "5de1b7ea",
   "metadata": {},
   "outputs": [],
   "source": [
    "# drop extra columns\n",
    "sales = sales.drop(['Year','Month','Store'], axis=1)\n",
    "# merge\n",
    "df1 = pd.merge(df1, sales, how='left', on=('sales_key'))"
   ]
  },
  {
   "cell_type": "markdown",
   "id": "8fa152a0",
   "metadata": {},
   "source": [
    "##### 2.7.2. Create new variable \"AvgeCustomer\""
   ]
  },
  {
   "cell_type": "markdown",
   "id": "109b9ed1",
   "metadata": {},
   "source": [
    "create a variable that calculates Monthly average number of customers for each store, becuase daily number of customer is another variable to be predicted"
   ]
  },
  {
   "cell_type": "code",
   "execution_count": 51,
   "id": "f821cc63",
   "metadata": {},
   "outputs": [],
   "source": [
    "# calculate weekly average\n",
    "cust = df1[['Year','Month','Store','Customers']].groupby(['Year','Month', 'Store']).mean()\n",
    "cust = cust.rename(columns={'Customers':'AvgCustomer'})\n",
    "cust = cust.reset_index()"
   ]
  },
  {
   "cell_type": "code",
   "execution_count": 52,
   "id": "f0e548dd",
   "metadata": {},
   "outputs": [],
   "source": [
    "df1['cust_key']=df1['Year'].map(str) + df1['Month'].map(str) + df1['Store'].map(str)\n",
    "cust['cust_key']=cust['Year'].map(str) + cust['Month'].map(str) + cust['Store'].map(str)"
   ]
  },
  {
   "cell_type": "code",
   "execution_count": 53,
   "id": "68c02e54",
   "metadata": {},
   "outputs": [],
   "source": [
    "# drop original feature Customers\n",
    "df1 = df1.drop('Customers', axis=1)# drop extra columns\n",
    "cust = cust.drop(['Year', 'Month', 'Store'], axis=1)"
   ]
  },
  {
   "cell_type": "code",
   "execution_count": 54,
   "id": "aa7cb724",
   "metadata": {},
   "outputs": [],
   "source": [
    "# merge\n",
    "df1 = pd.merge(df1, cust, how=\"left\", on=('cust_key'))"
   ]
  },
  {
   "cell_type": "markdown",
   "id": "f6b12214",
   "metadata": {},
   "source": [
    "##### 2.7.3. Transform Variable \"StateHoliday\""
   ]
  },
  {
   "cell_type": "code",
   "execution_count": 55,
   "id": "ac4c1978",
   "metadata": {},
   "outputs": [],
   "source": [
    "# 0 - not a state holiday; 1- is on a state holiday\n",
    "df1['StateHoliday'] = df1.StateHoliday.map({'0':0, 'a':1 ,'b' : 1,'c': 1})"
   ]
  },
  {
   "cell_type": "code",
   "execution_count": 56,
   "id": "14201826",
   "metadata": {},
   "outputs": [],
   "source": [
    "# drop extra columns\n",
    "df1 = df1.drop(['cust_key','sales_key','Store','Date'], axis=1)"
   ]
  },
  {
   "cell_type": "markdown",
   "id": "44dc848d",
   "metadata": {},
   "source": [
    "# 3. Exploratory Data Analysis"
   ]
  },
  {
   "cell_type": "code",
   "execution_count": 57,
   "id": "81b0ccb0",
   "metadata": {},
   "outputs": [],
   "source": [
    "# becasue my computer keeps crashing, I had to sample the dataset \n",
    "dfv = df.sample(n=5000, random_state=1)"
   ]
  },
  {
   "cell_type": "code",
   "execution_count": 58,
   "id": "669a65e8",
   "metadata": {},
   "outputs": [],
   "source": [
    "# set up credential file for plotly\n",
    "#py.tools.set_credentials_file(username='mei_zmyang', api_key='Z8Jn8zb2xXh4lfckv9xa')"
   ]
  },
  {
   "cell_type": "markdown",
   "id": "744aab4c",
   "metadata": {},
   "source": [
    "### 3.1. Correlation Heatmap"
   ]
  },
  {
   "cell_type": "code",
   "execution_count": 59,
   "id": "38f02738",
   "metadata": {},
   "outputs": [],
   "source": [
    "corr = df1.corr()"
   ]
  },
  {
   "cell_type": "code",
   "execution_count": 60,
   "id": "fa79c616",
   "metadata": {},
   "outputs": [
    {
     "data": {
      "text/plain": [
       "Text(0.5, 1.0, 'Correlation Heatmap')"
      ]
     },
     "execution_count": 60,
     "metadata": {},
     "output_type": "execute_result"
    },
    {
     "data": {
      "image/png": "[encoded data removed]",
      "text/plain": [
       "<Figure size 792x648 with 2 Axes>"
      ]
     },
     "metadata": {},
     "output_type": "display_data"
    }
   ],
   "source": [
    "mask = np.zeros_like(corr, dtype = np.bool)\n",
    "mask[np.triu_indices_from(mask)] = True\n",
    "f, ax = plt.subplots(figsize = (11, 9))\n",
    "sns.heatmap(corr, mask = mask,\n",
    "            square = True, linewidths = .5, ax = ax, cmap = \"BuPu\")\n",
    "plt.title(\"Correlation Heatmap\", fontsize=20)"
   ]
  },
  {
   "cell_type": "markdown",
   "id": "50023fc2",
   "metadata": {},
   "source": [
    "### 3.2.Sales Distribution"
   ]
  },
  {
   "cell_type": "code",
   "execution_count": 62,
   "id": "a9eaf011",
   "metadata": {},
   "outputs": [],
   "source": [
    "sales_dist = [go.Histogram(x=dfv.Sales, marker=dict(color='pink'))]\n",
    "layout2 = go.Layout(title='Sales Distribution', xaxis=dict(title='daily sales in $'), yaxis=dict(title='number of observations'))\n",
    "fig2 = go.Figure(data=sales_dist, layout=layout2)\n",
    "#py.iplot(fig2)"
   ]
  },
  {
   "cell_type": "markdown",
   "id": "5b590d73",
   "metadata": {},
   "source": [
    "### 3.3.Customer Distribution"
   ]
  },
  {
   "cell_type": "code",
   "execution_count": 67,
   "id": "868ba099",
   "metadata": {},
   "outputs": [],
   "source": [
    "cust_dist = [go.Histogram(x=dfv.Customers, marker=dict(color=('blue')))]\n",
    "layout3 = go.Layout(title='Customer Distribution', \n",
    "                   xaxis=dict(title='daily total number of customers'), yaxis=dict(title='number of observations'))\n",
    "fig3 = go.Figure(data=cust_dist, layout=layout3)\n",
    "#py.iplot(fig3)"
   ]
  },
  {
   "cell_type": "markdown",
   "id": "4df9ff14",
   "metadata": {},
   "source": [
    "### 3.4. Sales Over Time"
   ]
  },
  {
   "cell_type": "code",
   "execution_count": 69,
   "id": "cae4ccdb",
   "metadata": {},
   "outputs": [],
   "source": [
    "store1_2015 = df.query('Store == 1 and Year == 2015')\n",
    "store1_2013 = df.query('Store == 1 and Year == 2013')\n",
    "store1_2014 = df.query('Store == 1 and Year == 2014')\n",
    "trace_2013 = go.Scatter(\n",
    "                x=store1_2013.Date,\n",
    "                y=store1_2013.Sales,\n",
    "                name = \"2013\",\n",
    "                opacity = 0.8)\n",
    "\n",
    "trace_2014 = go.Scatter(\n",
    "                x=store1_2014.Date,\n",
    "                y=store1_2014.Sales,\n",
    "                name = \"2014\",\n",
    "                opacity = 0.8)\n",
    "\n",
    "trace_2015 = go.Scatter(\n",
    "                x=store1_2015.Date,\n",
    "                y=store1_2015.Sales,\n",
    "                name = \"2015\",\n",
    "                opacity = 0.8)\n",
    "\n",
    "data = [trace_2013,trace_2014, trace_2015]\n",
    "layout = go.Layout(title='Sales Over Time', \n",
    "                   xaxis=dict(title='Date'), yaxis=dict(title='Sales'))\n",
    "fig = go.Figure(data=data, layout=layout)\n",
    "#py.iplot(fig)"
   ]
  },
  {
   "cell_type": "code",
   "execution_count": 70,
   "id": "1e02e950",
   "metadata": {},
   "outputs": [
    {
     "data": {
      "text/plain": [
       "<seaborn.axisgrid.FacetGrid at 0x248a4609d90>"
      ]
     },
     "execution_count": 70,
     "metadata": {},
     "output_type": "execute_result"
    },
    {
     "data": {
      "image/png": "[encoded data removed]",
      "text/plain": [
       "<Figure size 1133.62x360 with 3 Axes>"
      ]
     },
     "metadata": {},
     "output_type": "display_data"
    }
   ],
   "source": [
    "sns.factorplot(data = dfv, x = 'Month', y = \"Sales\", \n",
    "               col = 'Assortment',\n",
    "               palette = 'plasma',\n",
    "               hue = 'StoreType')"
   ]
  },
  {
   "cell_type": "markdown",
   "id": "83de9c1a",
   "metadata": {},
   "source": [
    "## 3.5. Sales vs. Competition Distance"
   ]
  },
  {
   "cell_type": "code",
   "execution_count": 75,
   "id": "b32b9515",
   "metadata": {},
   "outputs": [],
   "source": [
    "distance_s = [go.Scatter(x=dfv.CompetitionDistance, y=dfv.Sales, mode='markers', \n",
    "                     marker=dict(size=20,color=dfv.Customers,\n",
    "                                 colorbar=dict(title='Number Of Customers'),colorscale='Jet'))]\n",
    "layout10 = go.Layout(title='Sales vs. Competition Distance', \n",
    "                   xaxis=dict(title='Competition Distance'), yaxis=dict(title='Sales'))\n",
    "fig10 = go.Figure(data=distance_s, layout=layout10)\n",
    "#py.iplot(fig10)"
   ]
  },
  {
   "cell_type": "markdown",
   "id": "8c9766ee",
   "metadata": {},
   "source": [
    "## 3.6.Sales By Promotion"
   ]
  },
  {
   "cell_type": "code",
   "execution_count": null,
   "id": "40a19197",
   "metadata": {},
   "outputs": [],
   "source": [
    "s_promo = [go.Box(x=dfv.Promo, y=dfv.Sales,marker=dict(color='purple'), \n",
    "                 boxpoints='all', jitter=0.3, pointpos=-1.8)]\n",
    "layout11 = go.Layout(title='Sales By Promotion', \n",
    "                   xaxis=dict(title='Promotion(0-No Promotion; 1-Promotion Period)'), yaxis=dict(title='Total Sales'))\n",
    "fig11 = go.Figure(data=s_promo, layout=layout11)\n",
    "py.iplot(fig11)"
   ]
  },
  {
   "cell_type": "code",
   "execution_count": 73,
   "id": "87f7c6d6",
   "metadata": {},
   "outputs": [],
   "source": [
    "promo0 = dfv.query('Promo==0')\n",
    "promo0 = promo0.rename(columns={'Sales':'No_Promotion_Sales'})\n",
    "promo1 = dfv.query('Promo==1')\n",
    "promo1 = promo1.rename(columns={'Sales':'Promotion_Sales'})\n",
    "x1 = promo0.No_Promotion_Sales\n",
    "x2 = promo1.Promotion_Sales"
   ]
  },
  {
   "cell_type": "code",
   "execution_count": 74,
   "id": "61cd8cac",
   "metadata": {},
   "outputs": [
    {
     "data": {
      "text/plain": [
       "Text(0, 0.5, 'Sales')"
      ]
     },
     "execution_count": 74,
     "metadata": {},
     "output_type": "execute_result"
    },
    {
     "data": {
      "image/png": "[encoded data removed]",
      "text/plain": [
       "<Figure size 720x432 with 1 Axes>"
      ]
     },
     "metadata": {},
     "output_type": "display_data"
    }
   ],
   "source": [
    "plt.figure(figsize=(10,6))\n",
    "ax = sns.kdeplot(x1, shade=True, color=\"r\")\n",
    "ax = sns.kdeplot(x2, shade=True, color=\"b\")\n",
    "plt.title(\"Sales By Promotion\")\n",
    "plt.ylabel('Sales')"
   ]
  },
  {
   "cell_type": "markdown",
   "id": "4f1d18af",
   "metadata": {},
   "source": [
    "# 4.Store Sales Prediction"
   ]
  },
  {
   "cell_type": "code",
   "execution_count": 78,
   "id": "747ace2d",
   "metadata": {},
   "outputs": [],
   "source": [
    "dfd = df1.sample(n=50000, random_state=1)"
   ]
  },
  {
   "cell_type": "code",
   "execution_count": 79,
   "id": "edb21d9b",
   "metadata": {},
   "outputs": [],
   "source": [
    "X = dfd.drop('Sales', axis=1)\n",
    "y = dfd. Sales"
   ]
  },
  {
   "cell_type": "code",
   "execution_count": 80,
   "id": "635ee7b2",
   "metadata": {},
   "outputs": [],
   "source": [
    "xd = X.copy()\n",
    "xd = pd.get_dummies(xd)"
   ]
  },
  {
   "cell_type": "code",
   "execution_count": 97,
   "id": "9ef14989",
   "metadata": {},
   "outputs": [],
   "source": [
    "xl = X.copy()\n",
    "\n",
    "from sklearn.preprocessing import LabelEncoder\n",
    "label = LabelEncoder()\n",
    "xl.StateHoliday = label.fit_transform(xl.StateHoliday)\n",
    "xl.Assortment = label.fit_transform(xl.Assortment)\n",
    "xl.StoreType = label.fit_transform(xl.StoreType)"
   ]
  },
  {
   "cell_type": "code",
   "execution_count": 104,
   "id": "2f2f9706",
   "metadata": {},
   "outputs": [],
   "source": [
    "from packaging.version import parse\n",
    "import sklearn\n",
    "if parse(sklearn.__version__) > parse('0.18'):\n",
    "    from sklearn.model_selection import train_test_split\n",
    "else:\n",
    "    from sklearn.cross_validation import train_test_split"
   ]
  },
  {
   "cell_type": "code",
   "execution_count": 105,
   "id": "79fce51d",
   "metadata": {},
   "outputs": [],
   "source": [
    "\n",
    "# split training and test datasets\n",
    "#from sklearn.cross_validation import train_test_split\n",
    "xd_train,xd_test,yd_train,yd_test = train_test_split(xd,y,test_size=0.3, random_state=1)\n",
    "xl_train,xl_test,yl_train,yl_test = train_test_split(xl,y,test_size=0.3, random_state=1)"
   ]
  },
  {
   "cell_type": "markdown",
   "id": "473ac421",
   "metadata": {},
   "source": [
    "## 4.1. inear Regression "
   ]
  },
  {
   "cell_type": "code",
   "execution_count": 106,
   "id": "3a016868",
   "metadata": {},
   "outputs": [],
   "source": [
    "from sklearn.linear_model import LinearRegression\n",
    "lin= LinearRegression()\n",
    "linreg = lin.fit(xd_train, yd_train)"
   ]
  },
  {
   "cell_type": "code",
   "execution_count": 107,
   "id": "b5bf5e36",
   "metadata": {},
   "outputs": [
    {
     "name": "stdout",
     "output_type": "stream",
     "text": [
      "Regresion Model Score : 0.7534426463092014 , Out of Sample Test Score : 0.7374031695181179\n",
      "Training RMSE : 1558.666986443433 Testing RMSE : 1569.7998978111068\n",
      "Training MAPE : 16.994613661280383 Testing MAPE : 17.22398394475225\n"
     ]
    }
   ],
   "source": [
    "# definte RMSE function\n",
    "from sklearn.metrics import mean_squared_error\n",
    "from math import sqrt\n",
    "\n",
    "def rmse(x, y):\n",
    "    return sqrt(mean_squared_error(x, y))\n",
    "\n",
    "# definte MAPE function\n",
    "def mape(x, y): \n",
    "    return np.mean(np.abs((x - y) / x)) * 100  \n",
    "  \n",
    "# get cross validation scores \n",
    "yd_predicted = linreg.predict(xd_train)\n",
    "yd_test_predicted = linreg.predict(xd_test)\n",
    "\n",
    "print(\"Regresion Model Score\" , \":\" , linreg.score(xd_train, yd_train) , \",\" ,\n",
    "      \"Out of Sample Test Score\" ,\":\" , linreg.score(xd_test, yd_test))\n",
    "print(\"Training RMSE\", \":\", rmse(yd_train, yd_predicted),\n",
    "      \"Testing RMSE\", \":\", rmse(yd_test, yd_test_predicted))\n",
    "print(\"Training MAPE\", \":\", mape(yd_train, yd_predicted),\n",
    "      \"Testing MAPE\", \":\", mape(yd_test, yd_test_predicted))"
   ]
  },
  {
   "cell_type": "markdown",
   "id": "42b99adb",
   "metadata": {},
   "source": [
    "## 4.2.Bayesian Ridge Regression"
   ]
  },
  {
   "cell_type": "code",
   "execution_count": 108,
   "id": "3fa8e16b",
   "metadata": {},
   "outputs": [],
   "source": [
    "from sklearn.linear_model import BayesianRidge\n",
    "rdg = BayesianRidge()\n",
    "rdgreg = rdg.fit(xd_train, yd_train)"
   ]
  },
  {
   "cell_type": "code",
   "execution_count": 109,
   "id": "6c738e39",
   "metadata": {},
   "outputs": [
    {
     "name": "stdout",
     "output_type": "stream",
     "text": [
      "Regresion Model Score : 0.7534416656134273 , Out of Sample Test Score : 0.7373596254117019\n",
      "Training RMSE : 1558.6700862832554 Testing RMSE : 1569.930045422206\n",
      "Training MAPE : 16.99452283743468 Testing MAPE : 17.223700672391924\n"
     ]
    }
   ],
   "source": [
    "# validation\n",
    "print(\"Regresion Model Score\" , \":\" , rdgreg.score(xd_train, yd_train) , \",\" ,\n",
    "      \"Out of Sample Test Score\" ,\":\" , rdgreg.score(xd_test, yd_test))\n",
    "\n",
    "yd_predicted = rdgreg.predict(xd_train)\n",
    "yd_test_predicted = rdgreg.predict(xd_test)\n",
    "\n",
    "print(\"Training RMSE\", \":\", rmse(yd_train, yd_predicted),\n",
    "      \"Testing RMSE\", \":\", rmse(yd_test, yd_test_predicted))\n",
    "print(\"Training MAPE\", \":\", mape(yd_train, yd_predicted),\n",
    "      \"Testing MAPE\", \":\", mape(yd_test, yd_test_predicted))"
   ]
  },
  {
   "cell_type": "markdown",
   "id": "0c39c837",
   "metadata": {},
   "source": [
    "## 4.3. LARS Lasso Regression"
   ]
  },
  {
   "cell_type": "code",
   "execution_count": 110,
   "id": "a1a46636",
   "metadata": {},
   "outputs": [],
   "source": [
    "from sklearn.linear_model import LassoLars\n",
    "las = LassoLars(alpha=0.3, fit_intercept=False, normalize=True)\n",
    "lasreg = las.fit(xd_train, yd_train)"
   ]
  },
  {
   "cell_type": "code",
   "execution_count": 111,
   "id": "afb2c6e0",
   "metadata": {},
   "outputs": [
    {
     "name": "stdout",
     "output_type": "stream",
     "text": [
      "Regresion Model Score : 0.7534242474036918 , Out of Sample Test Score : 0.7372795308701567\n",
      "Training RMSE : 1558.7251417391244 Testing RMSE : 1570.1694093096196\n",
      "Training MAPE : 16.99560177298624 Testing MAPE : 17.22304187417647\n"
     ]
    }
   ],
   "source": [
    "print(\"Regresion Model Score\" , \":\" , lasreg.score(xd_train, yd_train) , \",\" ,\n",
    "      \"Out of Sample Test Score\" ,\":\" , lasreg.score(xd_test, yd_test))\n",
    "\n",
    "yd_predicted = lasreg.predict(xd_train)\n",
    "yd_test_predicted = lasreg.predict(xd_test)\n",
    "\n",
    "print(\"Training RMSE\", \":\", rmse(yd_train, yd_predicted),\n",
    "      \"Testing RMSE\", \":\", rmse(yd_test, yd_test_predicted))\n",
    "print(\"Training MAPE\", \":\", mape(yd_train, yd_predicted),\n",
    "      \"Testing MAPE\", \":\", mape(yd_test, yd_test_predicted))"
   ]
  },
  {
   "cell_type": "markdown",
   "id": "360598a9",
   "metadata": {},
   "source": [
    "## 4.4. Decision Tree Regression"
   ]
  },
  {
   "cell_type": "code",
   "execution_count": 112,
   "id": "ed0b7ad7",
   "metadata": {},
   "outputs": [],
   "source": [
    "from sklearn.tree import DecisionTreeRegressor\n",
    "tree = DecisionTreeRegressor(min_samples_leaf=20)\n",
    "treereg = tree.fit(xl_train, yl_train)"
   ]
  },
  {
   "cell_type": "code",
   "execution_count": 113,
   "id": "8a341ccb",
   "metadata": {},
   "outputs": [
    {
     "name": "stdout",
     "output_type": "stream",
     "text": [
      "Regresion Model Score : 0.8547355290084072 , Out of Sample Test Score : 0.7905256000788837\n",
      "Training RMSE : 1196.3935424504407 Testing RMSE : 1402.0549467036099\n",
      "Training MAPE : 12.460619402882115 Testing MAPE : 14.720545212650373\n"
     ]
    }
   ],
   "source": [
    "print(\"Regresion Model Score\" , \":\" , treereg.score(xl_train, yl_train) , \",\" ,\n",
    "      \"Out of Sample Test Score\" ,\":\" , treereg.score(xl_test, yl_test))\n",
    "\n",
    "yl_predicted = treereg.predict(xl_train)\n",
    "yl_test_predicted = treereg.predict(xl_test)\n",
    "print(\"Training RMSE\", \":\", rmse(yl_train, yl_predicted),\n",
    "      \"Testing RMSE\", \":\", rmse(yl_test, yl_test_predicted))\n",
    "print(\"Training MAPE\", \":\", mape(yl_train, yl_predicted),\n",
    "      \"Testing MAPE\", \":\", mape(yl_test, yl_test_predicted))"
   ]
  },
  {
   "cell_type": "markdown",
   "id": "ccbb945c",
   "metadata": {},
   "source": [
    "## 4.5. Random Forest Regression"
   ]
  },
  {
   "cell_type": "code",
   "execution_count": 114,
   "id": "4ef62d38",
   "metadata": {},
   "outputs": [],
   "source": [
    "from sklearn.ensemble import RandomForestRegressor\n",
    "rdf = RandomForestRegressor(n_estimators=30)\n",
    "rdfreg = rdf.fit(xl_train, yl_train)"
   ]
  },
  {
   "cell_type": "code",
   "execution_count": 115,
   "id": "b8c237dc",
   "metadata": {},
   "outputs": [
    {
     "name": "stdout",
     "output_type": "stream",
     "text": [
      "Regresion Model Score : 0.9776173327984531 , Out of Sample Test Score : 0.8421803561317978\n",
      "Training RMSE : 469.62399159340976 Testing RMSE : 1216.9705986687386\n",
      "Training MAPE : 4.766792929616466 Testing MAPE : 12.58422307022058\n"
     ]
    }
   ],
   "source": [
    "print(\"Regresion Model Score\" , \":\" , rdfreg.score(xl_train, yl_train) , \",\" ,\n",
    "      \"Out of Sample Test Score\" ,\":\" , rdfreg.score(xl_test, yl_test))   \n",
    "\n",
    "yl_predicted = rdfreg.predict(xl_train)\n",
    "yl_test_predicted = rdfreg.predict(xl_test)\n",
    "\n",
    "print(\"Training RMSE\", \":\", rmse(yl_train, yl_predicted),\n",
    "      \"Testing RMSE\", \":\", rmse(yl_test, yl_test_predicted))\n",
    "print(\"Training MAPE\", \":\", mape(yl_train, yl_predicted),\n",
    "      \"Testing MAPE\", \":\", mape(yl_test, yl_test_predicted))"
   ]
  },
  {
   "cell_type": "markdown",
   "id": "c749ee1e",
   "metadata": {},
   "source": [
    "## 4.6. K-Nearest Neighbors Regression"
   ]
  },
  {
   "cell_type": "code",
   "execution_count": 116,
   "id": "96bc9283",
   "metadata": {},
   "outputs": [],
   "source": [
    "from sklearn.neighbors import KNeighborsRegressor\n",
    "knn = KNeighborsRegressor(n_neighbors = 30)\n",
    "knnreg = knn.fit(xd_train, yd_train)"
   ]
  },
  {
   "cell_type": "code",
   "execution_count": 117,
   "id": "f6a08fa2",
   "metadata": {},
   "outputs": [
    {
     "name": "stdout",
     "output_type": "stream",
     "text": [
      "Regresion Model Score : 0.6275829231074073 , Out of Sample Test Score : 0.5761647172167876\n",
      "Training RMSE : 1915.6190634834409 Testing RMSE : 1994.3349960691344\n",
      "Training MAPE : 22.92328723312777 Testing MAPE : 23.86808737338713\n"
     ]
    }
   ],
   "source": [
    "print(\"Regresion Model Score\" , \":\" , knnreg.score(xd_train, yd_train) , \",\" ,\n",
    "      \"Out of Sample Test Score\" ,\":\" , knnreg.score(xd_test, yd_test))\n",
    "\n",
    "yd_predicted = knnreg.predict(xd_train)\n",
    "yd_test_predicted = knnreg.predict(xd_test)\n",
    "\n",
    "print(\"Training RMSE\", \":\", rmse(yd_train, yd_predicted),\n",
    "      \"Testing RMSE\", \":\", rmse(yd_test, yd_test_predicted))\n",
    "print(\"Training MAPE\", \":\", mape(yd_train, yd_predicted),\n",
    "      \"Testing MAPE\", \":\", mape(yd_test, yd_test_predicted))"
   ]
  },
  {
   "cell_type": "code",
   "execution_count": 118,
   "id": "adc036d6",
   "metadata": {},
   "outputs": [
    {
     "name": "stdout",
     "output_type": "stream",
     "text": [
      "Regresion Model Score : 1.0 , Out of Sample Test Score : 0.2560582567580836\n",
      "Regresion Model Score : 0.8260280353776119 , Out of Sample Test Score : 0.4244378331607054\n",
      "Regresion Model Score : 0.7624828146157315 , Out of Sample Test Score : 0.48616905577417047\n",
      "Regresion Model Score : 0.7295772118189889 , Out of Sample Test Score : 0.5119259413797533\n",
      "Regresion Model Score : 0.7083945329312091 , Out of Sample Test Score : 0.5316113458878855\n",
      "Regresion Model Score : 0.6920948075644551 , Out of Sample Test Score : 0.5419683336801244\n",
      "Regresion Model Score : 0.6818876875076971 , Out of Sample Test Score : 0.5474800002284684\n",
      "Regresion Model Score : 0.673777214265157 , Out of Sample Test Score : 0.5529030760626559\n",
      "Regresion Model Score : 0.6679792689422281 , Out of Sample Test Score : 0.5579248830238358\n",
      "Regresion Model Score : 0.6616025760495636 , Out of Sample Test Score : 0.5618704470151104\n",
      "Regresion Model Score : 0.6561663024850025 , Out of Sample Test Score : 0.5634889369127833\n",
      "Regresion Model Score : 0.6528090855219146 , Out of Sample Test Score : 0.5647346730012927\n",
      "Regresion Model Score : 0.6487745282246087 , Out of Sample Test Score : 0.5660143554595718\n",
      "Regresion Model Score : 0.6465396897250262 , Out of Sample Test Score : 0.567483009704927\n",
      "Regresion Model Score : 0.644804649720337 , Out of Sample Test Score : 0.5686212782221329\n",
      "Regresion Model Score : 0.6428665806979668 , Out of Sample Test Score : 0.5690484757376317\n",
      "Regresion Model Score : 0.6414067119172366 , Out of Sample Test Score : 0.5693571786583576\n",
      "Regresion Model Score : 0.639349602870285 , Out of Sample Test Score : 0.570005692364274\n",
      "Regresion Model Score : 0.637778203757305 , Out of Sample Test Score : 0.5706296060818266\n",
      "Regresion Model Score : 0.6368127748137348 , Out of Sample Test Score : 0.5716369366374994\n",
      "Regresion Model Score : 0.6353587633605834 , Out of Sample Test Score : 0.5719144866838868\n",
      "Regresion Model Score : 0.634187923885956 , Out of Sample Test Score : 0.5723312474918013\n",
      "Regresion Model Score : 0.633286119783979 , Out of Sample Test Score : 0.572652606929205\n",
      "Regresion Model Score : 0.6325483092989206 , Out of Sample Test Score : 0.5735787177351203\n",
      "Regresion Model Score : 0.6315227167850006 , Out of Sample Test Score : 0.574472631138017\n",
      "Regresion Model Score : 0.6306125877643372 , Out of Sample Test Score : 0.5752653905687707\n",
      "Regresion Model Score : 0.6298254437764005 , Out of Sample Test Score : 0.5753371016400197\n",
      "Regresion Model Score : 0.628919039750028 , Out of Sample Test Score : 0.575919181138944\n",
      "Regresion Model Score : 0.6282220258553546 , Out of Sample Test Score : 0.5763722366668511\n"
     ]
    }
   ],
   "source": [
    "for x in range(1,30):\n",
    "    knn = KNeighborsRegressor(n_neighbors = x)\n",
    "    knnreg = knn.fit(xd_train, yd_train)\n",
    "    print(\"Regresion Model Score\" , \":\" , knnreg.score(xd_train, yd_train) , \",\" ,\n",
    "      \"Out of Sample Test Score\" ,\":\" , knnreg.score(xd_test, yd_test))"
   ]
  },
  {
   "cell_type": "markdown",
   "id": "7f5cc0e1",
   "metadata": {},
   "source": [
    "## 5. Feature Importance"
   ]
  },
  {
   "cell_type": "code",
   "execution_count": 119,
   "id": "72b02675",
   "metadata": {},
   "outputs": [
    {
     "data": {
      "text/plain": [
       "Text(0.5, 0, 'Relative Importance')"
      ]
     },
     "execution_count": 119,
     "metadata": {},
     "output_type": "execute_result"
    },
    {
     "data": {
      "image/png": "[encoded data removed]",
      "text/plain": [
       "<Figure size 576x720 with 1 Axes>"
      ]
     },
     "metadata": {},
     "output_type": "display_data"
    }
   ],
   "source": [
    "features = xl_train.columns\n",
    "importances = rdfreg.feature_importances_\n",
    "indices = np.argsort(importances)\n",
    "plt.figure(figsize=(8,10))\n",
    "plt.title('Feature Importances', fontsize=20)\n",
    "plt.barh(range(len(indices)), importances[indices], color='pink', align='center')\n",
    "plt.yticks(range(len(indices)), features[indices])\n",
    "plt.xlabel('Relative Importance')"
   ]
  },
  {
   "cell_type": "code",
   "execution_count": null,
   "id": "a728bc20",
   "metadata": {},
   "outputs": [],
   "source": []
  },
  {
   "cell_type": "code",
   "execution_count": null,
   "id": "8fb1e5ac",
   "metadata": {},
   "outputs": [],
   "source": []
  }
 ],
 "metadata": {
  "kernelspec": {
   "display_name": "Python 3 (ipykernel)",
   "language": "python",
   "name": "python3"
  },
  "language_info": {
   "codemirror_mode": {
    "name": "ipython",
    "version": 3
   },
   "file_extension": ".py",
   "mimetype": "text/x-python",
   "name": "python",
   "nbconvert_exporter": "python",
   "pygments_lexer": "ipython3",
   "version": "3.9.12"
  }
 },
 "nbformat": 4,
 "nbformat_minor": 5
}
