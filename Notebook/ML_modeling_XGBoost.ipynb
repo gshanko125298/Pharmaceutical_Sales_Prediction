{
 "cells": [
  {
   "cell_type": "markdown",
   "id": "8b707e39",
   "metadata": {},
   "source": [
    "# Train the model\n"
   ]
  },
  {
   "cell_type": "code",
   "execution_count": 4,
   "id": "08b8aac1",
   "metadata": {},
   "outputs": [],
   "source": [
    "#pip install -r requirements.txt\n"
   ]
  },
  {
   "cell_type": "code",
   "execution_count": 107,
   "id": "e4217113",
   "metadata": {},
   "outputs": [],
   "source": [
    "import numpy as np\n",
    "import pandas as pd\n",
    "import matplotlib.pyplot as plt\n",
    "%matplotlib inline\n",
    "import seaborn as sb\n",
    "from sklearn.model_selection import train_test_split\n",
    "from sklearn.model_selection import cross_val_score\n",
    "from sklearn.metrics import make_scorer\n",
    "import pickle\n",
    "plt.rcParams['figure.figsize'] = (12.0, 10.0)"
   ]
  },
  {
   "cell_type": "code",
   "execution_count": 108,
   "id": "fe697567",
   "metadata": {},
   "outputs": [],
   "source": [
    "import os\n",
    "import sys\n",
    "import warnings\n",
    "import pandas as pd\n",
    "import numpy as np\n",
    "from sklearn.metrics import mean_squared_error, mean_absolute_error, r2_score\n",
    "from sklearn.model_selection import train_test_split\n",
    "from sklearn.linear_model import ElasticNet, LogisticRegression\n",
    "from fast_ml.model_development import train_valid_test_split\n",
    "#import mlflow\n",
    "#import mlflow.sklearn\n",
    "import logging\n",
    "import matplotlib.pyplot as plt\n",
    "\n",
    "\n",
    "import dvc.api"
   ]
  },
  {
   "cell_type": "code",
   "execution_count": 109,
   "id": "9168e0f1",
   "metadata": {},
   "outputs": [],
   "source": [
    "import numpy as np\n",
    "import pandas as pd\n",
    "import matplotlib.pyplot as plt\n",
    "%matplotlib inline\n",
    "import seaborn as sns\n",
    "sns.set_style(\"whitegrid\")\n",
    "import plotly \n",
    "import plotly.graph_objs as go\n",
    "import chart_studio.plotly as py\n",
    "#import plotly.plotly as py\n",
    "import sklearn\n",
    "from sklearn.model_selection import train_test_split\n",
    "import warnings\n",
    "warnings.filterwarnings(\"ignore\")"
   ]
  },
  {
   "cell_type": "code",
   "execution_count": 110,
   "id": "b4dd2965",
   "metadata": {},
   "outputs": [],
   "source": [
    "store_data = pd.read_csv(r\"C:\\Users\\Genet Shanko\\Pharmaceutical_Sales_Prediction\\DVC_Dataset\\Store.csv\")\n",
    "train_data= pd.read_csv(r\"C:\\Users\\Genet Shanko\\Pharmaceutical_Sales_Prediction\\DVC_Dataset\\train.csv\",parse_dates = True,index_col = 'Date')"
   ]
  },
  {
   "cell_type": "code",
   "execution_count": 111,
   "id": "c14fb267",
   "metadata": {},
   "outputs": [],
   "source": [
    "# remove features\n",
    "store_data_up = store_data.drop(['CompetitionOpenSinceMonth', 'CompetitionOpenSinceYear','Promo2SinceWeek',\n",
    "                     'Promo2SinceYear', 'PromoInterval'], axis=1)"
   ]
  },
  {
   "cell_type": "code",
   "execution_count": 112,
   "id": "a262586a",
   "metadata": {},
   "outputs": [],
   "source": [
    "# replace missing values in CompetitionDistance with median for the store dataset\n",
    "store_data_up.CompetitionDistance.fillna(store_data_up.CompetitionDistance.median(), inplace=True)"
   ]
  },
  {
   "cell_type": "code",
   "execution_count": 113,
   "id": "79a6ffaa",
   "metadata": {},
   "outputs": [
    {
     "data": {
      "text/plain": [
       "Text(0.5, 1.0, 'Distributin of Store Competition Distance')"
      ]
     },
     "execution_count": 113,
     "metadata": {},
     "output_type": "execute_result"
    },
    {
     "data": {
      "image/png": "[encoded data removed]",
      "text/plain": [
       "<Figure size 432x288 with 1 Axes>"
      ]
     },
     "metadata": {},
     "output_type": "display_data"
    }
   ],
   "source": [
    "# CompetitionDistance is distance in meters to the nearest competitor store\n",
    "# let's first have a look at its distribution\n",
    "sns.distplot(store_data_up.CompetitionDistance.dropna())\n",
    "plt.title(\"Distributin of Store Competition Distance\")"
   ]
  },
  {
   "cell_type": "code",
   "execution_count": 114,
   "id": "db011a63",
   "metadata": {},
   "outputs": [],
   "source": [
    "# extract year, month, day and week of year from \"Date\"\n",
    "train_data['Year'] = train_data.index.year\n",
    "train_data['Month'] = train_data.index.month\n",
    "train_data['Day'] = train_data.index.day\n",
    "train_data['WeekOfYear'] = train_data.index.weekofyear\n",
    "train_data = train_data.reset_index()"
   ]
  },
  {
   "cell_type": "code",
   "execution_count": 115,
   "id": "f791fe16",
   "metadata": {},
   "outputs": [
    {
     "data": {
      "text/html": [
       "<div>\n",
       "<style scoped>\n",
       "    .dataframe tbody tr th:only-of-type {\n",
       "        vertical-align: middle;\n",
       "    }\n",
       "\n",
       "    .dataframe tbody tr th {\n",
       "        vertical-align: top;\n",
       "    }\n",
       "\n",
       "    .dataframe thead th {\n",
       "        text-align: right;\n",
       "    }\n",
       "</style>\n",
       "<table border=\"1\" class=\"dataframe\">\n",
       "  <thead>\n",
       "    <tr style=\"text-align: right;\">\n",
       "      <th></th>\n",
       "      <th>Date</th>\n",
       "      <th>Store</th>\n",
       "      <th>DayOfWeek</th>\n",
       "      <th>Sales</th>\n",
       "      <th>Customers</th>\n",
       "      <th>Open</th>\n",
       "      <th>Promo</th>\n",
       "      <th>StateHoliday</th>\n",
       "      <th>SchoolHoliday</th>\n",
       "      <th>Year</th>\n",
       "      <th>Month</th>\n",
       "      <th>Day</th>\n",
       "      <th>WeekOfYear</th>\n",
       "      <th>StoreType</th>\n",
       "      <th>Assortment</th>\n",
       "      <th>CompetitionDistance</th>\n",
       "      <th>Promo2</th>\n",
       "    </tr>\n",
       "  </thead>\n",
       "  <tbody>\n",
       "    <tr>\n",
       "      <th>0</th>\n",
       "      <td>2015-07-31</td>\n",
       "      <td>1</td>\n",
       "      <td>5</td>\n",
       "      <td>5263</td>\n",
       "      <td>555</td>\n",
       "      <td>1</td>\n",
       "      <td>1</td>\n",
       "      <td>0</td>\n",
       "      <td>1</td>\n",
       "      <td>2015</td>\n",
       "      <td>7</td>\n",
       "      <td>31</td>\n",
       "      <td>31</td>\n",
       "      <td>c</td>\n",
       "      <td>a</td>\n",
       "      <td>1270.0</td>\n",
       "      <td>0</td>\n",
       "    </tr>\n",
       "    <tr>\n",
       "      <th>1</th>\n",
       "      <td>2015-07-31</td>\n",
       "      <td>2</td>\n",
       "      <td>5</td>\n",
       "      <td>6064</td>\n",
       "      <td>625</td>\n",
       "      <td>1</td>\n",
       "      <td>1</td>\n",
       "      <td>0</td>\n",
       "      <td>1</td>\n",
       "      <td>2015</td>\n",
       "      <td>7</td>\n",
       "      <td>31</td>\n",
       "      <td>31</td>\n",
       "      <td>a</td>\n",
       "      <td>a</td>\n",
       "      <td>570.0</td>\n",
       "      <td>1</td>\n",
       "    </tr>\n",
       "    <tr>\n",
       "      <th>2</th>\n",
       "      <td>2015-07-31</td>\n",
       "      <td>3</td>\n",
       "      <td>5</td>\n",
       "      <td>8314</td>\n",
       "      <td>821</td>\n",
       "      <td>1</td>\n",
       "      <td>1</td>\n",
       "      <td>0</td>\n",
       "      <td>1</td>\n",
       "      <td>2015</td>\n",
       "      <td>7</td>\n",
       "      <td>31</td>\n",
       "      <td>31</td>\n",
       "      <td>a</td>\n",
       "      <td>a</td>\n",
       "      <td>14130.0</td>\n",
       "      <td>1</td>\n",
       "    </tr>\n",
       "    <tr>\n",
       "      <th>3</th>\n",
       "      <td>2015-07-31</td>\n",
       "      <td>4</td>\n",
       "      <td>5</td>\n",
       "      <td>13995</td>\n",
       "      <td>1498</td>\n",
       "      <td>1</td>\n",
       "      <td>1</td>\n",
       "      <td>0</td>\n",
       "      <td>1</td>\n",
       "      <td>2015</td>\n",
       "      <td>7</td>\n",
       "      <td>31</td>\n",
       "      <td>31</td>\n",
       "      <td>c</td>\n",
       "      <td>c</td>\n",
       "      <td>620.0</td>\n",
       "      <td>0</td>\n",
       "    </tr>\n",
       "    <tr>\n",
       "      <th>4</th>\n",
       "      <td>2015-07-31</td>\n",
       "      <td>5</td>\n",
       "      <td>5</td>\n",
       "      <td>4822</td>\n",
       "      <td>559</td>\n",
       "      <td>1</td>\n",
       "      <td>1</td>\n",
       "      <td>0</td>\n",
       "      <td>1</td>\n",
       "      <td>2015</td>\n",
       "      <td>7</td>\n",
       "      <td>31</td>\n",
       "      <td>31</td>\n",
       "      <td>a</td>\n",
       "      <td>a</td>\n",
       "      <td>29910.0</td>\n",
       "      <td>0</td>\n",
       "    </tr>\n",
       "  </tbody>\n",
       "</table>\n",
       "</div>"
      ],
      "text/plain": [
       "        Date  Store  DayOfWeek  Sales  Customers  Open  Promo StateHoliday  \\\n",
       "0 2015-07-31      1          5   5263        555     1      1            0   \n",
       "1 2015-07-31      2          5   6064        625     1      1            0   \n",
       "2 2015-07-31      3          5   8314        821     1      1            0   \n",
       "3 2015-07-31      4          5  13995       1498     1      1            0   \n",
       "4 2015-07-31      5          5   4822        559     1      1            0   \n",
       "\n",
       "   SchoolHoliday  Year  Month  Day  WeekOfYear StoreType Assortment  \\\n",
       "0              1  2015      7   31          31         c          a   \n",
       "1              1  2015      7   31          31         a          a   \n",
       "2              1  2015      7   31          31         a          a   \n",
       "3              1  2015      7   31          31         c          c   \n",
       "4              1  2015      7   31          31         a          a   \n",
       "\n",
       "   CompetitionDistance  Promo2  \n",
       "0               1270.0       0  \n",
       "1                570.0       1  \n",
       "2              14130.0       1  \n",
       "3                620.0       0  \n",
       "4              29910.0       0  "
      ]
     },
     "execution_count": 115,
     "metadata": {},
     "output_type": "execute_result"
    }
   ],
   "source": [
    "df = pd.merge(train_data, store_data_up, how='left', on='Store')\n",
    "df.head()"
   ]
  },
  {
   "cell_type": "code",
   "execution_count": null,
   "id": "4f6746a2",
   "metadata": {},
   "outputs": [],
   "source": []
  },
  {
   "cell_type": "code",
   "execution_count": 116,
   "id": "8b22801d",
   "metadata": {},
   "outputs": [],
   "source": [
    "types = {'StateHoliday': np.dtype(str)}\n"
   ]
  },
  {
   "cell_type": "code",
   "execution_count": 117,
   "id": "c4c954a2",
   "metadata": {},
   "outputs": [],
   "source": [
    "class Information:\n",
    "    def __init__(self):\n",
    "        \"\"\"\n",
    "        This class give some brief information about the datasets.\n",
    "        \"\"\"\n",
    "        print(\"Information object created\")\n",
    "    \n",
    "    def _get_missing_values(self,data):\n",
    "        \"\"\"\n",
    "        Find missing values of given datad\n",
    "        :param data: checked its missing value\n",
    "        :return: Pandas Series object\n",
    "        \"\"\"\n",
    "        #Getting sum of missing values for each feature\n",
    "        missing_values = data.isnull().sum()\n",
    "        #Feature missing values are sorted from few to many\n",
    "        missing_values.sort_values(ascending=False, inplace=True)\n",
    "\n",
    "        #Returning missing values\n",
    "        return missing_values"
   ]
  },
  {
   "cell_type": "code",
   "execution_count": 118,
   "id": "cacaafff",
   "metadata": {},
   "outputs": [],
   "source": [
    "class Preprocess:\n",
    "    def __init_(self):\n",
    "        print(\"Preprocess object created\")\n",
    "        \n",
    "    def remove_no_sales(self,train_data):\n",
    "        not_open = train_data[(train_data['Open'] == 0) & (train_data['Sales'] != 0)]\n",
    "        print(\"No closed store with sales: \" + str(not_open.size == 0))\n",
    "        train_data = train_data.loc[train_data['Sales'] > 0]\n",
    "        return train_data\n",
    "        \n",
    "    def date_range(self,train):\n",
    "        dates = pd.to_datetime(train_data['Date'], format=\"%Y%m%d:%H:%M:%S.%f\").sort_values()\n",
    "        dates = dates.unique()\n",
    "        start_date = dates[0]\n",
    "        end_date = dates[-1]\n",
    "        print(\"Start date: \", start_date)\n",
    "        print(\"End Date: \", end_date)\n",
    "        date_range = pd.date_range(start_date, end_date).values"
   ]
  },
  {
   "cell_type": "code",
   "execution_count": 119,
   "id": "d49c0e96",
   "metadata": {},
   "outputs": [
    {
     "name": "stdout",
     "output_type": "stream",
     "text": [
      "No closed store with sales: True\n",
      "Start date:  2013-01-01T00:00:00.000000000\n",
      "End Date:  2015-07-31T00:00:00.000000000\n"
     ]
    }
   ],
   "source": [
    "p1 = Preprocess()\n",
    "p1.remove_no_sales(train_data)\n",
    "p1.date_range(train_data)"
   ]
  },
  {
   "cell_type": "code",
   "execution_count": 187,
   "id": "487955da",
   "metadata": {},
   "outputs": [],
   "source": [
    "class Datavisualisation:\n",
    "    def __init__(self):\n",
    "        print (\"DataVisualisation object created\")\n",
    "        \n",
    "    def sales_per_day(self,train_data):\n",
    "        plt.rcParams['figure.figsize'] = (12.0, 10.0)\n",
    "        f, ax = plt.subplots(7, sharex=True, sharey=True)\n",
    "        plt.rcParams['figure.figsize'] = (10.0, 50.0)\n",
    "        for i in range(1, 8):\n",
    "            mask = train_data[train_data['DayOfWeek'] == i]\n",
    "            ax[i - 1].set_title(\"Day {0}\".format(i))\n",
    "            ax[i - 1].scatter(mask['Customers'], mask['Sales'], label=i)\n",
    "\n",
    "        plt.legend()\n",
    "        plt.xlabel('Customers')\n",
    "        plt.ylabel('Sales')\n",
    "        plt.savefig('output1.png', dpi=300, bbox_inches='tight')\n",
    "        plt.show()\n",
    "    def sales_per_customer(self,train_data):\n",
    "        plt.rcParams['figure.figsize'] = (12.0, 10.0)\n",
    "        plt.scatter(train_data['Customers'], train_data['Sales'], c=train_data['DayOfWeek'], alpha=0.8, cmap=plt.cm.get_cmap('plasma'))\n",
    "        plt.colorbar()\n",
    "        plt.xlabel('Customers')\n",
    "        plt.ylabel('Sales')\n",
    "        plt.savefig('output2.png', dpi=300, bbox_inches='tight')\n",
    "        plt.show()\n",
    "\n",
    "        \n",
    "    def state_holiday(self,train_data):\n",
    "        plt.rcParams['figure.figsize'] = (12.0, 10.0)\n",
    "        for i in [\"0\", \"a\", \"b\", \"c\"]:\n",
    "            data = train_data[train_data['StateHoliday'] == i]\n",
    "            if (len(data) == 0):\n",
    "                continue\n",
    "                \n",
    "            plt.scatter(data['Customers'], data['Sales'], label=i)\n",
    "        plt.legend()\n",
    "        plt.xlabel('Customers')\n",
    "        plt.ylabel('Sales')\n",
    "        plt.savefig('output3.png', dpi=300, bbox_inches='tight')\n",
    "        plt.show()\n",
    "        \n",
    "        \n",
    "\n",
    "    def school_holiday(self,train_data):\n",
    "        plt.rcParams['figure.figsize'] = (12.0, 10.0)\n",
    "        for i in [0, 1]:\n",
    "            data = train_data[train_data['SchoolHoliday'] == i]\n",
    "            if (len(data) == 0): \n",
    "                continue            \n",
    "        plt.scatter(data['Customers'], data['Sales'], label=i)\n",
    "        plt.legend()\n",
    "        plt.xlabel('Customers')\n",
    "        plt.ylabel('Sales')\n",
    "        plt.savefig('output4.png', dpi=300, bbox_inches='tight')\n",
    "        plt.show()\n",
    "\n",
    "        \n",
    "    def promo(self,train_data):\n",
    "        plt.rcParams['figure.figsize'] = (12.0, 10.0)\n",
    "        for i in [0, 1]:\n",
    "            data = train_data[train_data['Promo'] == i]\n",
    "            if (len(data) == 0):\n",
    "                 continue\n",
    "                \n",
    "            plt.scatter(data['Customers'], data['Sales'], label=i)                                            \n",
    "                                                 \n",
    "        plt.xlabel('Customers')\n",
    "        plt.ylabel('Sales')\n",
    "        plt.savefig('output5.png', dpi=300, bbox_inches='tight')\n",
    "        plt.show()\n",
    "\n",
    "    def add_store(self,train_data,store_data_up):\n",
    "        plt.rcParams['figure.figsize'] = (12.0, 10.0)\n",
    "        train_data['SalesPerCustomer'] = train_data['Sales'] / train_data['Customers']\n",
    "        avg_store = train_data.groupby('Store')[['Sales', 'Customers', 'SalesPerCustomer']].median()\n",
    "        avg_store = train_data.groupby('Store')[['Sales', 'Customers', 'SalesPerCustomer']].mean()\n",
    "        avg_store.rename(columns=lambda x: 'Avg' + x, inplace=True)\n",
    "        store = pd.merge(avg_store.reset_index(), store, on='Store')\n",
    "        return store\n",
    "    \n",
    "    def store_type(self,store_data_up):\n",
    "        plt.rcParams['figure.figsize'] = (12.0, 10.0)\n",
    "        for i in ['a', 'b', 'c', 'd']:\n",
    "            data = store[store['StoreType'] == i]\n",
    "            if(len(data) == 0):\n",
    "                 continue\n",
    "        plt.scatter(data['AvgCustomers'], data['AvgSales'], label=i)\n",
    "        plt.legend()\n",
    "        plt.xlabel('Average Customers')\n",
    "        plt.ylabel('Average Sales')\n",
    "        plt.savefig('output6.png', dpi=300, bbox_inches='tight')\n",
    "        plt.show()\n",
    "\n",
    "    def assortment(self,store_data_up):\n",
    "        plt.rcParams['figure.figsize'] = (12.0, 10.0)\n",
    "        for i in ['a', 'b', 'c']:\n",
    "            data = store_data_up[store_data_up['Assortment'] == i]\n",
    "            if (len(data) == 0):\n",
    "                continue\n",
    "        plt.scatter(data['AvgCustomers'], data['AvgSales'], label=i)\n",
    "        plt.legend()\n",
    "        plt.xlabel('Average Customers')\n",
    "        plt.ylabel('Average Sales')\n",
    "        plt.savefig('output7.png', dpi=300, bbox_inches='tight')\n",
    "        plt.show()\n",
    "\n",
    "    def promo2(self,store_data_up):\n",
    "        plt.rcParams['figure.figsize'] = (12.0, 10.0)\n",
    "        for i in [0, 1]:\n",
    "            data = store_data_up[store_data_up['Promo2'] == i]\n",
    "            if (len(data) == 0):\n",
    "                continue\n",
    "            plt.scatter(data['AvgCustomers'], data['AvgSales'], label=i)\n",
    "\n",
    "        plt.legend()\n",
    "        plt.xlabel('Average Customers')\n",
    "        plt.ylabel('Average Sales')\n",
    "        plt.savefig('output8.png', dpi=300, bbox_inches='tight')\n",
    "        plt.show()\n",
    "                                                \n",
    "    def fill_na_values(self,store_data_up):\n",
    "        plt.rcParams['figure.figsize'] = (12.0, 10.0)\n",
    "        # fill NaN values\n",
    "        store_data_up[\"CompetitionDistance\"].fillna(-1)\n",
    "        plt.scatter(store_data_up['CompetitionDistance'], store_data_up['AvgSales'])\n",
    "\n",
    "        plt.xlabel('CompetitionDistance')\n",
    "        plt.ylabel('Average Sales')\n",
    "        plt.savefig('output9.png', dpi=300, bbox_inches='tight')\n",
    "        plt.show()\n",
    "        return store"
   ]
  },
  {
   "cell_type": "code",
   "execution_count": 188,
   "id": "e995d43f",
   "metadata": {},
   "outputs": [],
   "source": [
    "class Features:\n",
    "    def __init__(self):\n",
    "        print (\"Features object created\")\n",
    "    def string_to_int(self,store_data_up,train_data):\n",
    "        store_data_up['StoreType'] = store_data_up['StoreType'].astype('category').cat.codes\n",
    "        store_data_up['Assortment'] = store_data_up['Assortment'].astype('category').cat.codes\n",
    "        train_data[\"StateHoliday\"] = train_data[\"StateHoliday\"].astype('category').cat.codes\n",
    "        merged = pd.merge(train_data, store_data_up, on='Store', how='left')\n",
    "        return merged\n",
    "    def remove_nan(self,merged):\n",
    "        NaN_replace = 0\n",
    "        merged.fillna(NaN_replace, inplace=True)\n",
    "        merged['Year'] = merged.Date.dt.year\n",
    "        merged['Month'] = merged.Date.dt.month\n",
    "        merged['Day'] = merged.Date.dt.day\n",
    "        merged['Week'] = merged.Date.dt.week\n",
    "        return merged\n",
    "    def Month_Competetions(self,merged):\n",
    "        # Number of months that competition has existed for\n",
    "        NaN_replace = 0\n",
    "        merged['MonthsCompetitionOpen'] = 12 * (merged['Year'] - merged['CompetitionOpenSinceYear']) + \\\n",
    "        (merged['Month'] - merged['CompetitionOpenSinceMonth'])\n",
    "        merged.loc[merged['CompetitionOpenSinceYear'] == NaN_replace, 'MonthsCompetitionOpen'] = NaN_replace\n",
    "        return merged\n",
    "    def Weeks_promo_open(self,merged):\n",
    "        # Number of weeks that promotion has existed for\n",
    "        NaN_replace = 0\n",
    "        merged['WeeksPromoOpen'] = 12 * (merged['Year'] - merged['Promo2SinceYear']) + \\\n",
    "        (merged['Date'].dt.weekofyear - merged['Promo2SinceWeek'])\n",
    "        merged.loc[merged['Promo2SinceYear'] == NaN_replace, 'WeeksPromoOpen'] = NaN_replace\n",
    "        return merged\n",
    "    def to_int(self,merged):\n",
    "        toInt = [\n",
    "            'CompetitionOpenSinceMonth',\n",
    "            'CompetitionOpenSinceYear',\n",
    "            'Promo2SinceWeek', \n",
    "            'Promo2SinceYear', \n",
    "            'MonthsCompetitionOpen', \n",
    "            'WeeksPromoOpen'\n",
    "        ]\n",
    "        merged[toInt] = merged[toInt].astype(int)\n",
    "        return merged\n",
    "    def add_mean(self,train_data,store):\n",
    "        med_store = train_data.groupby('Store')[['Sales', 'Customers', 'SalesPerCustomer']].mean()\n",
    "        med_store.rename(columns=lambda x: 'Med' + x, inplace=True)\n",
    "        store = pd.merge(med_store.reset_index(), store, on='Store')\n",
    "        return store\n",
    "    "
   ]
  },
  {
   "cell_type": "code",
   "execution_count": 221,
   "id": "6a684a54",
   "metadata": {},
   "outputs": [],
   "source": [
    "def add_mean(self,train_data,store_data_up):\n",
    "        med_store = train_data.groupby('Store')[['Sales', 'Customers', 'SalesPerCustomer']].mean()\n",
    "        med_store.rename(columns=lambda x: 'Med' + x, inplace=True)\n",
    "        store = pd.merge(med_store.reset_index(), store, on='Store')\n",
    "        return store\n",
    "    "
   ]
  },
  {
   "cell_type": "code",
   "execution_count": 222,
   "id": "4dc6ba00",
   "metadata": {},
   "outputs": [
    {
     "name": "stdout",
     "output_type": "stream",
     "text": [
      "Information object created\n"
     ]
    },
    {
     "data": {
      "text/plain": [
       "Date             0\n",
       "Store            0\n",
       "DayOfWeek        0\n",
       "Sales            0\n",
       "Customers        0\n",
       "Open             0\n",
       "Promo            0\n",
       "StateHoliday     0\n",
       "SchoolHoliday    0\n",
       "Year             0\n",
       "Month            0\n",
       "Day              0\n",
       "WeekOfYear       0\n",
       "dtype: int64"
      ]
     },
     "execution_count": 222,
     "metadata": {},
     "output_type": "execute_result"
    }
   ],
   "source": [
    "train_data_info = Information()\n",
    "train_data_info._get_missing_values(train_data)"
   ]
  },
  {
   "cell_type": "code",
   "execution_count": 223,
   "id": "f2e00676",
   "metadata": {},
   "outputs": [
    {
     "name": "stdout",
     "output_type": "stream",
     "text": [
      "Information object created\n"
     ]
    },
    {
     "data": {
      "text/plain": [
       "Store                  0\n",
       "StoreType              0\n",
       "Assortment             0\n",
       "CompetitionDistance    0\n",
       "Promo2                 0\n",
       "dtype: int64"
      ]
     },
     "execution_count": 223,
     "metadata": {},
     "output_type": "execute_result"
    }
   ],
   "source": [
    "store_data_up_info = Information()\n",
    "store_data_up_info._get_missing_values(store_data_up)"
   ]
  },
  {
   "cell_type": "code",
   "execution_count": 224,
   "id": "d6eaec4c",
   "metadata": {},
   "outputs": [
    {
     "name": "stdout",
     "output_type": "stream",
     "text": [
      "Features object created\n"
     ]
    }
   ],
   "source": [
    "feature_selection = Features()"
   ]
  },
  {
   "cell_type": "code",
   "execution_count": 226,
   "id": "534935e7",
   "metadata": {},
   "outputs": [],
   "source": [
    "#store = feature_selection.add_mean(train_data,store_data_up)"
   ]
  },
  {
   "cell_type": "code",
   "execution_count": 211,
   "id": "2890ca3f",
   "metadata": {},
   "outputs": [],
   "source": [
    "merge = feature_selection.string_to_int(store_data_up,train_data)"
   ]
  },
  {
   "cell_type": "code",
   "execution_count": 212,
   "id": "20b5b649",
   "metadata": {},
   "outputs": [],
   "source": [
    "merge = feature_selection.remove_nan(merge)"
   ]
  },
  {
   "cell_type": "code",
   "execution_count": 227,
   "id": "2e46e758",
   "metadata": {},
   "outputs": [],
   "source": [
    "#merge = feature_selection.Month_Competetions(merge)"
   ]
  },
  {
   "cell_type": "code",
   "execution_count": 196,
   "id": "d8e7d15a",
   "metadata": {},
   "outputs": [],
   "source": [
    "merge = feature_selection.Weeks_promo_open(merge)"
   ]
  },
  {
   "cell_type": "code",
   "execution_count": 197,
   "id": "457a7182",
   "metadata": {},
   "outputs": [],
   "source": [
    "merge = feature_selection.to_int(merge)"
   ]
  },
  {
   "cell_type": "code",
   "execution_count": 204,
   "id": "33d0a813",
   "metadata": {},
   "outputs": [],
   "source": [
    "merge.shape\n",
    "merge['CompetitionDistance'] = np.log(merge['CompetitionDistance'] + 1)"
   ]
  },
  {
   "cell_type": "code",
   "execution_count": 228,
   "id": "465b7999",
   "metadata": {},
   "outputs": [],
   "source": [
    "X = [\n",
    "    #'Store', \n",
    "    'Customers',\n",
    "    'CompetitionDistance', \n",
    "\n",
    "    'Promo', \n",
    "    'Promo2', \n",
    "\n",
    "#     'SchoolHoliday',\n",
    "    'StateHoliday',\n",
    "    'StoreType',\n",
    "    'Assortment',\n",
    "\n",
    "    'AvgSales',\n",
    "    'AvgCustomers',\n",
    "    'AvgSalesPerCustomer',\n",
    "    \n",
    "    'MedSales',\n",
    "    'MedCustomers',\n",
    "    'MedSalesPerCustomer',\n",
    "\n",
    "    'DayOfWeek',\n",
    "    'Week',\n",
    "    'Day',\n",
    "    'Month',\n",
    "    'Year',\n",
    "\n",
    "    'CompetitionOpenSinceMonth',\n",
    "    'CompetitionOpenSinceYear',\n",
    "    'Promo2SinceWeek',\n",
    "    'Promo2SinceYear'\n",
    "    \n",
    "#'MonthsCompetitionOpen',\n",
    "# WeeksPromoOpen'\n",
    "]\n",
    "\n",
    "#X_train, X_test, y_train, y_test = train_test_split(merge[X], merge['Sales'], test_size=0.1, random_state=10)"
   ]
  },
  {
   "cell_type": "code",
   "execution_count": 209,
   "id": "e0e495a8",
   "metadata": {},
   "outputs": [],
   "source": [
    "# Error calculating function according to kaggle\n",
    "def rmspe(y, y_hat):\n",
    "    return np.sqrt(np.mean(((y - y_hat) / y) ** 2))\n",
    "\n",
    "rmpse_scorer = make_scorer(rmspe, greater_is_better = False) # Loss function\n",
    "\n",
    "def score(model, X_train, y_train, y_test, y_hat):\n",
    "    score = cross_val_score(model, X_train, y_train, scoring=rmpse_scorer, cv=5)\n",
    "    print('Mean', score.mean())\n",
    "    print('Variance', score.var())\n",
    "    print('RMSPE', rmspe(y_test, y_hat))\n",
    "\n",
    "def plot_importance(model):\n",
    "    k = list(zip(X, model.feature_importances_))\n",
    "    k.sort(key=lambda tup: tup[1])\n",
    "\n",
    "    labels, vals = zip(*k)\n",
    "    \n",
    "    plt.barh(np.arange(len(X)), vals, align='center')\n",
    "    plt.yticks(np.arange(len(X)), labels)"
   ]
  },
  {
   "cell_type": "code",
   "execution_count": null,
   "id": "4ceb1e45",
   "metadata": {},
   "outputs": [],
   "source": [
    "import xgboost as xgb\n",
    "\n",
    "def rmspe_xg(yhat, y):\n",
    "    y = np.expm1(y.get_label())\n",
    "    yhat = np.expm1(yhat)\n",
    "    return \"rmspe\", rmspe(y,yhat)\n",
    "\n",
    "xgboost_tree = xgb.XGBRegressor(\n",
    "    n_estimators = 1000,\n",
    "    max_depth = 2,\n",
    "    tree_method = 'exact',\n",
    "    reg_alpha = 0.05,\n",
    "    silent = 0,\n",
    "    random_state = 1023\n",
    ")\n",
    "xgboost_tree.fit(X_train[X], np.log1p(y_train), \n",
    "                 eval_set = [(X_train[X], np.log1p(y_train)), (X_test[X], np.log1p(y_test))],\n",
    "                 eval_metric = rmspe_xg,\n",
    "                 early_stopping_rounds = 300\n",
    "                )\n",
    "filename=\"Private_score.sav\"\n",
    "pickle.dump(xgboost_tree, open(filename,\"wb\"))"
   ]
  },
  {
   "cell_type": "code",
   "execution_count": null,
   "id": "dcae87e9",
   "metadata": {},
   "outputs": [],
   "source": []
  },
  {
   "cell_type": "code",
   "execution_count": null,
   "id": "54d576a0",
   "metadata": {},
   "outputs": [],
   "source": []
  }
 ],
 "metadata": {
  "kernelspec": {
   "display_name": "Python 3 (ipykernel)",
   "language": "python",
   "name": "python3"
  },
  "language_info": {
   "codemirror_mode": {
    "name": "ipython",
    "version": 3
   },
   "file_extension": ".py",
   "mimetype": "text/x-python",
   "name": "python",
   "nbconvert_exporter": "python",
   "pygments_lexer": "ipython3",
   "version": "3.9.12"
  }
 },
 "nbformat": 4,
 "nbformat_minor": 5
}
